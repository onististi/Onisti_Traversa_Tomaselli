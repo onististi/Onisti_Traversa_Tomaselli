{
 "cells": [
  {
   "cell_type": "code",
   "execution_count": 107,
   "id": "d30e6b690f18eb8a",
   "metadata": {},
   "outputs": [
    {
     "name": "stderr",
     "output_type": "stream",
     "text": [
      "C:\\Users\\aronn\\AppData\\Local\\Temp\\ipykernel_18064\\2753813331.py:18: UserWarning:\n",
      "\n",
      "pandas only supports SQLAlchemy connectable (engine/connection) or database string URI or sqlite3 DBAPI2 connection. Other DBAPI2 objects are not tested. Please consider using SQLAlchemy.\n",
      "\n"
     ]
    },
    {
     "data": {
      "application/vnd.plotly.v1+json": {
       "config": {
        "plotlyServerURL": "https://plot.ly"
       },
       "data": [
        {
         "hovertemplate": "genre=Action<br>Decennio=%{x}<br>Rating Medio=%{y}<extra></extra>",
         "legendgroup": "Action",
         "line": {
          "color": "#636efa",
          "dash": "solid"
         },
         "marker": {
          "symbol": "circle"
         },
         "mode": "lines+markers",
         "name": "Action",
         "orientation": "v",
         "showlegend": true,
         "type": "scatter",
         "x": {
          "bdata": "AAAAAADYnUAAAAAAAACeQAAAAAAAKJ5AAAAAAABQnkAAAAAAAHieQAAAAAAAoJ5AAAAAAADInkAAAAAAAPCeQAAAAAAAGJ9AAAAAAABAn0AAAAAAAGifQAAAAAAAkJ9A",
          "dtype": "f8"
         },
         "xaxis": "x",
         "y": {
          "bdata": "q6qqqqpqC0DIt3GX5eILQB1Qg7bpnAlAw/UoXI8CCkBUQAVUQAUKQP53G7iNiApAmhFWmeINCkA1K1OzMjUJQO77ctQyzAhAEV15e4pKCEDpsf1Sq6EHQP3myk6EMgdA",
          "dtype": "f8"
         },
         "yaxis": "y"
        },
        {
         "hovertemplate": "genre=Adventure<br>Decennio=%{x}<br>Rating Medio=%{y}<extra></extra>",
         "legendgroup": "Adventure",
         "line": {
          "color": "#EF553B",
          "dash": "solid"
         },
         "marker": {
          "symbol": "circle"
         },
         "mode": "lines+markers",
         "name": "Adventure",
         "orientation": "v",
         "showlegend": true,
         "type": "scatter",
         "x": {
          "bdata": "AAAAAADYnUAAAAAAAACeQAAAAAAAKJ5AAAAAAABQnkAAAAAAAHieQAAAAAAAoJ5AAAAAAADInkAAAAAAAPCeQAAAAAAAGJ9AAAAAAABAn0AAAAAAAGifQAAAAAAAkJ9A",
          "dtype": "f8"
         },
         "xaxis": "x",
         "y": {
          "bdata": "PDw8PDw8CkB3QxDdqXYLQJ3zvtr9lQpA4tTvuSVOCkCHOwR7OdkJQNRjtlr8GwpAKVyPwvUoCkDN8LTrmFEJQAqLgan2EQlA6j6aSNshCEBILf1LbRcIQKdqOMy7BAhA",
          "dtype": "f8"
         },
         "yaxis": "y"
        },
        {
         "hovertemplate": "genre=Animation<br>Decennio=%{x}<br>Rating Medio=%{y}<extra></extra>",
         "legendgroup": "Animation",
         "line": {
          "color": "#00cc96",
          "dash": "solid"
         },
         "marker": {
          "symbol": "circle"
         },
         "mode": "lines+markers",
         "name": "Animation",
         "orientation": "v",
         "showlegend": true,
         "type": "scatter",
         "x": {
          "bdata": "AAAAAADYnUAAAAAAAACeQAAAAAAAKJ5AAAAAAABQnkAAAAAAAHieQAAAAAAAoJ5AAAAAAADInkAAAAAAAPCeQAAAAAAAGJ9AAAAAAABAn0AAAAAAAGifQAAAAAAAkJ9A",
          "dtype": "f8"
         },
         "xaxis": "x",
         "y": {
          "bdata": "xbOikYBvC0CAOcvmnzEKQEDdmW03cwpAfwnA2hYeC0DoMdHFD68LQGr3scJZYAtAY5dBb8bPC0AVN5i0UccLQDZwmxlpKgtA/fVmEDSFCkDmrylQVYAKQPRR7nUE5gpA",
          "dtype": "f8"
         },
         "yaxis": "y"
        },
        {
         "hovertemplate": "genre=Comedy<br>Decennio=%{x}<br>Rating Medio=%{y}<extra></extra>",
         "legendgroup": "Comedy",
         "line": {
          "color": "#ab63fa",
          "dash": "solid"
         },
         "marker": {
          "symbol": "circle"
         },
         "mode": "lines+markers",
         "name": "Comedy",
         "orientation": "v",
         "showlegend": true,
         "type": "scatter",
         "x": {
          "bdata": "AAAAAADYnUAAAAAAAACeQAAAAAAAKJ5AAAAAAABQnkAAAAAAAHieQAAAAAAAoJ5AAAAAAADInkAAAAAAAPCeQAAAAAAAGJ9AAAAAAABAn0AAAAAAAGifQAAAAAAAkJ9A",
          "dtype": "f8"
         },
         "xaxis": "x",
         "y": {
          "bdata": "JCnrM2/FCUCE0K7K6VkLQCB6Ewkh3ApA80+KQh42C0DS4OMnUWcLQDV/0WYK4gpAI+8EwmXLCkAIXoLgJQgKQEMgot4SwglAvn1vaionCUDCaChZH8gIQKjfJlcK1QhA",
          "dtype": "f8"
         },
         "yaxis": "y"
        },
        {
         "hovertemplate": "genre=Crime<br>Decennio=%{x}<br>Rating Medio=%{y}<extra></extra>",
         "legendgroup": "Crime",
         "line": {
          "color": "#FFA15A",
          "dash": "solid"
         },
         "marker": {
          "symbol": "circle"
         },
         "mode": "lines+markers",
         "name": "Crime",
         "orientation": "v",
         "showlegend": true,
         "type": "scatter",
         "x": {
          "bdata": "AAAAAADYnUAAAAAAAACeQAAAAAAAKJ5AAAAAAABQnkAAAAAAAHieQAAAAAAAoJ5AAAAAAADInkAAAAAAAPCeQAAAAAAAGJ9AAAAAAABAn0AAAAAAAGifQAAAAAAAkJ9A",
          "dtype": "f8"
         },
         "xaxis": "x",
         "y": {
          "bdata": "lSlKmaKUC0CTVjFpFZMLQKMWYv74tgpA7aYaAtHuCkDJdr6fGi8LQGl6PhTD+gpAMl2uU5zZCkDEwByXbFMKQKGaXrfyVQpAEwVLL1+vCUCvCy0lU0QJQEcPxLXfKQlA",
          "dtype": "f8"
         },
         "yaxis": "y"
        },
        {
         "hovertemplate": "genre=Documentary<br>Decennio=%{x}<br>Rating Medio=%{y}<extra></extra>",
         "legendgroup": "Documentary",
         "line": {
          "color": "#19d3f3",
          "dash": "solid"
         },
         "marker": {
          "symbol": "circle"
         },
         "mode": "lines+markers",
         "name": "Documentary",
         "orientation": "v",
         "showlegend": true,
         "type": "scatter",
         "x": {
          "bdata": "AAAAAADYnUAAAAAAAACeQAAAAAAAKJ5AAAAAAABQnkAAAAAAAHieQAAAAAAAoJ5AAAAAAADInkAAAAAAAPCeQAAAAAAAGJ9AAAAAAABAn0AAAAAAAGifQAAAAAAAkJ9A",
          "dtype": "f8"
         },
         "xaxis": "x",
         "y": {
          "bdata": "LW+MYKK/C0BeukkMAisMQCGJNPZpbgtA5/up8dLNCkAJGk7qvjwMQHIrR0R1VQxAQacNdNrcDECIJcZM1zoNQCjPQ6s39gxAoxkcy1SEDED7ywb9uxcMQIgDCWmS+QtA",
          "dtype": "f8"
         },
         "yaxis": "y"
        },
        {
         "hovertemplate": "genre=Drama<br>Decennio=%{x}<br>Rating Medio=%{y}<extra></extra>",
         "legendgroup": "Drama",
         "line": {
          "color": "#FF6692",
          "dash": "solid"
         },
         "marker": {
          "symbol": "circle"
         },
         "mode": "lines+markers",
         "name": "Drama",
         "orientation": "v",
         "showlegend": true,
         "type": "scatter",
         "x": {
          "bdata": "AAAAAADYnUAAAAAAAACeQAAAAAAAKJ5AAAAAAABQnkAAAAAAAHieQAAAAAAAoJ5AAAAAAADInkAAAAAAAPCeQAAAAAAAGJ9AAAAAAABAn0AAAAAAAGifQAAAAAAAkJ9A",
          "dtype": "f8"
         },
         "xaxis": "x",
         "y": {
          "bdata": "jbq+Sp3qCkD7vAVBl7cLQEQBlDYTGgtA9unHgpyBC0CZT0NBFs8LQBAjKwxFOAxA85+wMB6kC0DFsDFv8IALQA5iV4OdKwtAAbQ0Qox8CkBwXpFpdgUKQFdV9NoLBQpA",
          "dtype": "f8"
         },
         "yaxis": "y"
        },
        {
         "hovertemplate": "genre=Family<br>Decennio=%{x}<br>Rating Medio=%{y}<extra></extra>",
         "legendgroup": "Family",
         "line": {
          "color": "#B6E880",
          "dash": "solid"
         },
         "marker": {
          "symbol": "circle"
         },
         "mode": "lines+markers",
         "name": "Family",
         "orientation": "v",
         "showlegend": true,
         "type": "scatter",
         "x": {
          "bdata": "AAAAAADYnUAAAAAAAACeQAAAAAAAKJ5AAAAAAABQnkAAAAAAAHieQAAAAAAAoJ5AAAAAAADInkAAAAAAAPCeQAAAAAAAGJ9AAAAAAABAn0AAAAAAAGifQAAAAAAAkJ9A",
          "dtype": "f8"
         },
         "xaxis": "x",
         "y": {
          "bdata": "SOF6FK5HCUCKZ0UjAd8KQCLnPruAWApAdWE8gUr5CkCC86217QMLQNgUynpNoQpAhwq50/zJCkCk1wuXX3YKQKiWCUEwowhAbcnQwdRxCECFOcc/KCsIQOIuoh0tEwhA",
          "dtype": "f8"
         },
         "yaxis": "y"
        },
        {
         "hovertemplate": "genre=Fantasy<br>Decennio=%{x}<br>Rating Medio=%{y}<extra></extra>",
         "legendgroup": "Fantasy",
         "line": {
          "color": "#FF97FF",
          "dash": "solid"
         },
         "marker": {
          "symbol": "circle"
         },
         "mode": "lines+markers",
         "name": "Fantasy",
         "orientation": "v",
         "showlegend": true,
         "type": "scatter",
         "x": {
          "bdata": "AAAAAADYnUAAAAAAAACeQAAAAAAAKJ5AAAAAAABQnkAAAAAAAHieQAAAAAAAoJ5AAAAAAADInkAAAAAAAPCeQAAAAAAAGJ9AAAAAAABAn0AAAAAAAGifQAAAAAAAkJ9A",
          "dtype": "f8"
         },
         "xaxis": "x",
         "y": {
          "bdata": "KVyPwvW4CkAiIiIiIiIMQHhncY6UHAtAdIdozQ5GC0DMBk2+bNAKQJGF8wDxcwpAuV3TUCK7CkDf2LyYUR0KQBqUHp1kNQlAHK3erXGYCEDkESz4IagIQLlS7IUfmQhA",
          "dtype": "f8"
         },
         "yaxis": "y"
        },
        {
         "hovertemplate": "genre=History<br>Decennio=%{x}<br>Rating Medio=%{y}<extra></extra>",
         "legendgroup": "History",
         "line": {
          "color": "#FECB52",
          "dash": "solid"
         },
         "marker": {
          "symbol": "circle"
         },
         "mode": "lines+markers",
         "name": "History",
         "orientation": "v",
         "showlegend": true,
         "type": "scatter",
         "x": {
          "bdata": "AAAAAADYnUAAAAAAAACeQAAAAAAAKJ5AAAAAAABQnkAAAAAAAHieQAAAAAAAoJ5AAAAAAADInkAAAAAAAPCeQAAAAAAAGJ9AAAAAAABAn0AAAAAAAGifQAAAAAAAkJ9A",
          "dtype": "f8"
         },
         "xaxis": "x",
         "y": {
          "bdata": "16NwPQpXCkCtad5xio4MQLbRCXpaGwtAI1601GAVC0B3QkjywqsLQLkyCye8XgxAeghIZFRNDEB4EatE3ncMQEO00gyTqgtAPCXIU4I8C0CTcCewrr8KQKqfRcgefgpA",
          "dtype": "f8"
         },
         "yaxis": "y"
        },
        {
         "hovertemplate": "genre=Horror<br>Decennio=%{x}<br>Rating Medio=%{y}<extra></extra>",
         "legendgroup": "Horror",
         "line": {
          "color": "#636efa",
          "dash": "solid"
         },
         "marker": {
          "symbol": "circle"
         },
         "mode": "lines+markers",
         "name": "Horror",
         "orientation": "v",
         "showlegend": true,
         "type": "scatter",
         "x": {
          "bdata": "AAAAAADYnUAAAAAAAACeQAAAAAAAKJ5AAAAAAABQnkAAAAAAAHieQAAAAAAAoJ5AAAAAAADInkAAAAAAAPCeQAAAAAAAGJ9AAAAAAABAn0AAAAAAAGifQAAAAAAAkJ9A",
          "dtype": "f8"
         },
         "xaxis": "x",
         "y": {
          "bdata": "I9v5fmq8CkCESP0kV+cLQCY0IpzBBgpA1GUxsfm4CECyhtF+U74HQEWk4SpjIQlAjo4EgfawCEDGHAOLIxgIQHfMuonI6AdAmImGvd/3BkAN4kTiIZ8GQHezojq/ywZA",
          "dtype": "f8"
         },
         "yaxis": "y"
        },
        {
         "hovertemplate": "genre=Music<br>Decennio=%{x}<br>Rating Medio=%{y}<extra></extra>",
         "legendgroup": "Music",
         "line": {
          "color": "#EF553B",
          "dash": "solid"
         },
         "marker": {
          "symbol": "circle"
         },
         "mode": "lines+markers",
         "name": "Music",
         "orientation": "v",
         "showlegend": true,
         "type": "scatter",
         "x": {
          "bdata": "AAAAAAAAnkAAAAAAACieQAAAAAAAUJ5AAAAAAAB4nkAAAAAAAKCeQAAAAAAAyJ5AAAAAAADwnkAAAAAAABifQAAAAAAAQJ9AAAAAAABon0AAAAAAAJCfQA==",
          "dtype": "f8"
         },
         "xaxis": "x",
         "y": {
          "bdata": "Jb9Y8oslCkDvCitYrHUKQNcARlXQcwpAC1JOun4+C0A4VIVy/IgKQEMXij0bMgxALc8m4daWC0AfMtlXJ/ULQPCxjkM0ywtAJsz3XN2LC0CcKEbXB5YLQA==",
          "dtype": "f8"
         },
         "yaxis": "y"
        },
        {
         "hovertemplate": "genre=Mystery<br>Decennio=%{x}<br>Rating Medio=%{y}<extra></extra>",
         "legendgroup": "Mystery",
         "line": {
          "color": "#00cc96",
          "dash": "solid"
         },
         "marker": {
          "symbol": "circle"
         },
         "mode": "lines+markers",
         "name": "Mystery",
         "orientation": "v",
         "showlegend": true,
         "type": "scatter",
         "x": {
          "bdata": "AAAAAADYnUAAAAAAAACeQAAAAAAAKJ5AAAAAAABQnkAAAAAAAHieQAAAAAAAoJ5AAAAAAADInkAAAAAAAPCeQAAAAAAAGJ9AAAAAAABAn0AAAAAAAGifQAAAAAAAkJ9A",
          "dtype": "f8"
         },
         "xaxis": "x",
         "y": {
          "bdata": "iYiIiIiIC0DtPUW6ChILQNvXr+EAzQlAFyUPsL6oCkBk9O+grGULQHHUR3qw1wpAsVjPOeFXCkDLuG7IKB4KQEZQcsL52wlAl8sS7hwZCUBkO99Pje8IQJkGp3qBuwhA",
          "dtype": "f8"
         },
         "yaxis": "y"
        },
        {
         "hovertemplate": "genre=Romance<br>Decennio=%{x}<br>Rating Medio=%{y}<extra></extra>",
         "legendgroup": "Romance",
         "line": {
          "color": "#ab63fa",
          "dash": "solid"
         },
         "marker": {
          "symbol": "circle"
         },
         "mode": "lines+markers",
         "name": "Romance",
         "orientation": "v",
         "showlegend": true,
         "type": "scatter",
         "x": {
          "bdata": "AAAAAADYnUAAAAAAAACeQAAAAAAAKJ5AAAAAAABQnkAAAAAAAHieQAAAAAAAoJ5AAAAAAADInkAAAAAAAPCeQAAAAAAAGJ9AAAAAAABAn0AAAAAAAGifQAAAAAAAkJ9A",
          "dtype": "f8"
         },
         "xaxis": "x",
         "y": {
          "bdata": "BoGVQ4tsC0BckboVqdsLQFEhDFhdCgtA46WbxCBQC0CZCObKrFwLQD5/zFG6fQtA2dAhxkBQC0DaEVkrknoKQPELI147PQpAAJ/RvtuHCUBtLypwA58IQGPKqI4IEghA",
          "dtype": "f8"
         },
         "yaxis": "y"
        },
        {
         "hovertemplate": "genre=Science Fiction<br>Decennio=%{x}<br>Rating Medio=%{y}<extra></extra>",
         "legendgroup": "Science Fiction",
         "line": {
          "color": "#FFA15A",
          "dash": "solid"
         },
         "marker": {
          "symbol": "circle"
         },
         "mode": "lines+markers",
         "name": "Science Fiction",
         "orientation": "v",
         "showlegend": true,
         "type": "scatter",
         "x": {
          "bdata": "AAAAAADYnUAAAAAAAACeQAAAAAAAKJ5AAAAAAABQnkAAAAAAAHieQAAAAAAAoJ5AAAAAAADInkAAAAAAAPCeQAAAAAAAGJ9AAAAAAABAn0AAAAAAAGifQAAAAAAAkJ9A",
          "dtype": "f8"
         },
         "xaxis": "x",
         "y": {
          "bdata": "PQrXo3A9CkDhehSuR+ELQHE9CtejcApAHYzPwfgcCEDoxU4ruYEHQA0bMHzDkAhA8VpFa47DCEDctcEkUu8IQI9WfLjlHAhA2yRUZ3TvB0CYqTcv+AEIQIknVCfJGghA",
          "dtype": "f8"
         },
         "yaxis": "y"
        },
        {
         "hovertemplate": "genre=Thriller<br>Decennio=%{x}<br>Rating Medio=%{y}<extra></extra>",
         "legendgroup": "Thriller",
         "line": {
          "color": "#19d3f3",
          "dash": "solid"
         },
         "marker": {
          "symbol": "circle"
         },
         "mode": "lines+markers",
         "name": "Thriller",
         "orientation": "v",
         "showlegend": true,
         "type": "scatter",
         "x": {
          "bdata": "AAAAAADYnUAAAAAAAACeQAAAAAAAKJ5AAAAAAABQnkAAAAAAAHieQAAAAAAAoJ5AAAAAAADInkAAAAAAAPCeQAAAAAAAGJ9AAAAAAABAn0AAAAAAAGifQAAAAAAAkJ9A",
          "dtype": "f8"
         },
         "xaxis": "x",
         "y": {
          "bdata": "sAVbsAVbDEDtMHW5/UEMQId7SstOMwpAEExPXe8SC0D9MJ+1TyQLQBEGOUv21wpA18Bs8aL8CUDbY+rhmTUJQC56O+9f/ghARRrEHLpECEDTu8glN54HQJBBPLMwOQdA",
          "dtype": "f8"
         },
         "yaxis": "y"
        },
        {
         "hovertemplate": "genre=TV Movie<br>Decennio=%{x}<br>Rating Medio=%{y}<extra></extra>",
         "legendgroup": "TV Movie",
         "line": {
          "color": "#FF6692",
          "dash": "solid"
         },
         "marker": {
          "symbol": "circle"
         },
         "mode": "lines+markers",
         "name": "TV Movie",
         "orientation": "v",
         "showlegend": true,
         "type": "scatter",
         "x": {
          "bdata": "AAAAAABQnkAAAAAAAHieQAAAAAAAoJ5AAAAAAADInkAAAAAAAPCeQAAAAAAAGJ9AAAAAAABAn0AAAAAAAGifQAAAAAAAkJ9A",
          "dtype": "f8"
         },
         "xaxis": "x",
         "y": {
          "bdata": "4XoUrkfhCkBQjZduEoMKQHACJ3ACJwtAixaYhzc4CkDo+PIHoG4KQLTWXe1SiglA/4xpMsDcCED4lx9NSf4HQJJ7Be3yQAhA",
          "dtype": "f8"
         },
         "yaxis": "y"
        },
        {
         "hovertemplate": "genre=War<br>Decennio=%{x}<br>Rating Medio=%{y}<extra></extra>",
         "legendgroup": "War",
         "line": {
          "color": "#B6E880",
          "dash": "solid"
         },
         "marker": {
          "symbol": "circle"
         },
         "mode": "lines+markers",
         "name": "War",
         "orientation": "v",
         "showlegend": true,
         "type": "scatter",
         "x": {
          "bdata": "AAAAAADYnUAAAAAAAACeQAAAAAAAKJ5AAAAAAABQnkAAAAAAAHieQAAAAAAAoJ5AAAAAAADInkAAAAAAAPCeQAAAAAAAGJ9AAAAAAABAn0AAAAAAAGifQAAAAAAAkJ9A",
          "dtype": "f8"
         },
         "xaxis": "x",
         "y": {
          "bdata": "tAuITaUhCkCHnPvsAmINQGkniXaSaAtAyDIl3pEWC0CPwvUoXI8LQE1gnDRcRgxA24h16TF/C0CZhfUj83ELQBjz2+AdywtARR/fPePgCkAtyzi/0/4JQNV7BSJg9glA",
          "dtype": "f8"
         },
         "yaxis": "y"
        },
        {
         "hovertemplate": "genre=Western<br>Decennio=%{x}<br>Rating Medio=%{y}<extra></extra>",
         "legendgroup": "Western",
         "line": {
          "color": "#FF97FF",
          "dash": "solid"
         },
         "marker": {
          "symbol": "circle"
         },
         "mode": "lines+markers",
         "name": "Western",
         "orientation": "v",
         "showlegend": true,
         "type": "scatter",
         "x": {
          "bdata": "AAAAAADYnUAAAAAAAACeQAAAAAAAKJ5AAAAAAABQnkAAAAAAAHieQAAAAAAAoJ5AAAAAAADInkAAAAAAAPCeQAAAAAAAGJ9AAAAAAABAn0AAAAAAAGifQAAAAAAAkJ9A",
          "dtype": "f8"
         },
         "xaxis": "x",
         "y": {
          "bdata": "xsGCko5PCkDCgpKOT18LQKecGIcQZAlAGVd70KzCCkDx664BdCULQBjcNS85qgpAjD2TBqVTCkA30GkDnfYJQDKCif5OVglAU5MuNelSCUC6PPuby7MJQEyWv2T5SwlA",
          "dtype": "f8"
         },
         "yaxis": "y"
        }
       ],
       "layout": {
        "height": 1000,
        "legend": {
         "title": {
          "text": "Generi"
         },
         "tracegroupgap": 0,
         "x": 1.1,
         "xanchor": "right",
         "y": 1,
         "yanchor": "top"
        },
        "margin": {
         "t": 60
        },
        "template": {
         "data": {
          "bar": [
           {
            "error_x": {
             "color": "#f2f5fa"
            },
            "error_y": {
             "color": "#f2f5fa"
            },
            "marker": {
             "line": {
              "color": "rgb(17,17,17)",
              "width": 0.5
             },
             "pattern": {
              "fillmode": "overlay",
              "size": 10,
              "solidity": 0.2
             }
            },
            "type": "bar"
           }
          ],
          "barpolar": [
           {
            "marker": {
             "line": {
              "color": "rgb(17,17,17)",
              "width": 0.5
             },
             "pattern": {
              "fillmode": "overlay",
              "size": 10,
              "solidity": 0.2
             }
            },
            "type": "barpolar"
           }
          ],
          "carpet": [
           {
            "aaxis": {
             "endlinecolor": "#A2B1C6",
             "gridcolor": "#506784",
             "linecolor": "#506784",
             "minorgridcolor": "#506784",
             "startlinecolor": "#A2B1C6"
            },
            "baxis": {
             "endlinecolor": "#A2B1C6",
             "gridcolor": "#506784",
             "linecolor": "#506784",
             "minorgridcolor": "#506784",
             "startlinecolor": "#A2B1C6"
            },
            "type": "carpet"
           }
          ],
          "choropleth": [
           {
            "colorbar": {
             "outlinewidth": 0,
             "ticks": ""
            },
            "type": "choropleth"
           }
          ],
          "contour": [
           {
            "colorbar": {
             "outlinewidth": 0,
             "ticks": ""
            },
            "colorscale": [
             [
              0,
              "#0d0887"
             ],
             [
              0.1111111111111111,
              "#46039f"
             ],
             [
              0.2222222222222222,
              "#7201a8"
             ],
             [
              0.3333333333333333,
              "#9c179e"
             ],
             [
              0.4444444444444444,
              "#bd3786"
             ],
             [
              0.5555555555555556,
              "#d8576b"
             ],
             [
              0.6666666666666666,
              "#ed7953"
             ],
             [
              0.7777777777777778,
              "#fb9f3a"
             ],
             [
              0.8888888888888888,
              "#fdca26"
             ],
             [
              1,
              "#f0f921"
             ]
            ],
            "type": "contour"
           }
          ],
          "contourcarpet": [
           {
            "colorbar": {
             "outlinewidth": 0,
             "ticks": ""
            },
            "type": "contourcarpet"
           }
          ],
          "heatmap": [
           {
            "colorbar": {
             "outlinewidth": 0,
             "ticks": ""
            },
            "colorscale": [
             [
              0,
              "#0d0887"
             ],
             [
              0.1111111111111111,
              "#46039f"
             ],
             [
              0.2222222222222222,
              "#7201a8"
             ],
             [
              0.3333333333333333,
              "#9c179e"
             ],
             [
              0.4444444444444444,
              "#bd3786"
             ],
             [
              0.5555555555555556,
              "#d8576b"
             ],
             [
              0.6666666666666666,
              "#ed7953"
             ],
             [
              0.7777777777777778,
              "#fb9f3a"
             ],
             [
              0.8888888888888888,
              "#fdca26"
             ],
             [
              1,
              "#f0f921"
             ]
            ],
            "type": "heatmap"
           }
          ],
          "histogram": [
           {
            "marker": {
             "pattern": {
              "fillmode": "overlay",
              "size": 10,
              "solidity": 0.2
             }
            },
            "type": "histogram"
           }
          ],
          "histogram2d": [
           {
            "colorbar": {
             "outlinewidth": 0,
             "ticks": ""
            },
            "colorscale": [
             [
              0,
              "#0d0887"
             ],
             [
              0.1111111111111111,
              "#46039f"
             ],
             [
              0.2222222222222222,
              "#7201a8"
             ],
             [
              0.3333333333333333,
              "#9c179e"
             ],
             [
              0.4444444444444444,
              "#bd3786"
             ],
             [
              0.5555555555555556,
              "#d8576b"
             ],
             [
              0.6666666666666666,
              "#ed7953"
             ],
             [
              0.7777777777777778,
              "#fb9f3a"
             ],
             [
              0.8888888888888888,
              "#fdca26"
             ],
             [
              1,
              "#f0f921"
             ]
            ],
            "type": "histogram2d"
           }
          ],
          "histogram2dcontour": [
           {
            "colorbar": {
             "outlinewidth": 0,
             "ticks": ""
            },
            "colorscale": [
             [
              0,
              "#0d0887"
             ],
             [
              0.1111111111111111,
              "#46039f"
             ],
             [
              0.2222222222222222,
              "#7201a8"
             ],
             [
              0.3333333333333333,
              "#9c179e"
             ],
             [
              0.4444444444444444,
              "#bd3786"
             ],
             [
              0.5555555555555556,
              "#d8576b"
             ],
             [
              0.6666666666666666,
              "#ed7953"
             ],
             [
              0.7777777777777778,
              "#fb9f3a"
             ],
             [
              0.8888888888888888,
              "#fdca26"
             ],
             [
              1,
              "#f0f921"
             ]
            ],
            "type": "histogram2dcontour"
           }
          ],
          "mesh3d": [
           {
            "colorbar": {
             "outlinewidth": 0,
             "ticks": ""
            },
            "type": "mesh3d"
           }
          ],
          "parcoords": [
           {
            "line": {
             "colorbar": {
              "outlinewidth": 0,
              "ticks": ""
             }
            },
            "type": "parcoords"
           }
          ],
          "pie": [
           {
            "automargin": true,
            "type": "pie"
           }
          ],
          "scatter": [
           {
            "marker": {
             "line": {
              "color": "#283442"
             }
            },
            "type": "scatter"
           }
          ],
          "scatter3d": [
           {
            "line": {
             "colorbar": {
              "outlinewidth": 0,
              "ticks": ""
             }
            },
            "marker": {
             "colorbar": {
              "outlinewidth": 0,
              "ticks": ""
             }
            },
            "type": "scatter3d"
           }
          ],
          "scattercarpet": [
           {
            "marker": {
             "colorbar": {
              "outlinewidth": 0,
              "ticks": ""
             }
            },
            "type": "scattercarpet"
           }
          ],
          "scattergeo": [
           {
            "marker": {
             "colorbar": {
              "outlinewidth": 0,
              "ticks": ""
             }
            },
            "type": "scattergeo"
           }
          ],
          "scattergl": [
           {
            "marker": {
             "line": {
              "color": "#283442"
             }
            },
            "type": "scattergl"
           }
          ],
          "scattermap": [
           {
            "marker": {
             "colorbar": {
              "outlinewidth": 0,
              "ticks": ""
             }
            },
            "type": "scattermap"
           }
          ],
          "scattermapbox": [
           {
            "marker": {
             "colorbar": {
              "outlinewidth": 0,
              "ticks": ""
             }
            },
            "type": "scattermapbox"
           }
          ],
          "scatterpolar": [
           {
            "marker": {
             "colorbar": {
              "outlinewidth": 0,
              "ticks": ""
             }
            },
            "type": "scatterpolar"
           }
          ],
          "scatterpolargl": [
           {
            "marker": {
             "colorbar": {
              "outlinewidth": 0,
              "ticks": ""
             }
            },
            "type": "scatterpolargl"
           }
          ],
          "scatterternary": [
           {
            "marker": {
             "colorbar": {
              "outlinewidth": 0,
              "ticks": ""
             }
            },
            "type": "scatterternary"
           }
          ],
          "surface": [
           {
            "colorbar": {
             "outlinewidth": 0,
             "ticks": ""
            },
            "colorscale": [
             [
              0,
              "#0d0887"
             ],
             [
              0.1111111111111111,
              "#46039f"
             ],
             [
              0.2222222222222222,
              "#7201a8"
             ],
             [
              0.3333333333333333,
              "#9c179e"
             ],
             [
              0.4444444444444444,
              "#bd3786"
             ],
             [
              0.5555555555555556,
              "#d8576b"
             ],
             [
              0.6666666666666666,
              "#ed7953"
             ],
             [
              0.7777777777777778,
              "#fb9f3a"
             ],
             [
              0.8888888888888888,
              "#fdca26"
             ],
             [
              1,
              "#f0f921"
             ]
            ],
            "type": "surface"
           }
          ],
          "table": [
           {
            "cells": {
             "fill": {
              "color": "#506784"
             },
             "line": {
              "color": "rgb(17,17,17)"
             }
            },
            "header": {
             "fill": {
              "color": "#2a3f5f"
             },
             "line": {
              "color": "rgb(17,17,17)"
             }
            },
            "type": "table"
           }
          ]
         },
         "layout": {
          "annotationdefaults": {
           "arrowcolor": "#f2f5fa",
           "arrowhead": 0,
           "arrowwidth": 1
          },
          "autotypenumbers": "strict",
          "coloraxis": {
           "colorbar": {
            "outlinewidth": 0,
            "ticks": ""
           }
          },
          "colorscale": {
           "diverging": [
            [
             0,
             "#8e0152"
            ],
            [
             0.1,
             "#c51b7d"
            ],
            [
             0.2,
             "#de77ae"
            ],
            [
             0.3,
             "#f1b6da"
            ],
            [
             0.4,
             "#fde0ef"
            ],
            [
             0.5,
             "#f7f7f7"
            ],
            [
             0.6,
             "#e6f5d0"
            ],
            [
             0.7,
             "#b8e186"
            ],
            [
             0.8,
             "#7fbc41"
            ],
            [
             0.9,
             "#4d9221"
            ],
            [
             1,
             "#276419"
            ]
           ],
           "sequential": [
            [
             0,
             "#0d0887"
            ],
            [
             0.1111111111111111,
             "#46039f"
            ],
            [
             0.2222222222222222,
             "#7201a8"
            ],
            [
             0.3333333333333333,
             "#9c179e"
            ],
            [
             0.4444444444444444,
             "#bd3786"
            ],
            [
             0.5555555555555556,
             "#d8576b"
            ],
            [
             0.6666666666666666,
             "#ed7953"
            ],
            [
             0.7777777777777778,
             "#fb9f3a"
            ],
            [
             0.8888888888888888,
             "#fdca26"
            ],
            [
             1,
             "#f0f921"
            ]
           ],
           "sequentialminus": [
            [
             0,
             "#0d0887"
            ],
            [
             0.1111111111111111,
             "#46039f"
            ],
            [
             0.2222222222222222,
             "#7201a8"
            ],
            [
             0.3333333333333333,
             "#9c179e"
            ],
            [
             0.4444444444444444,
             "#bd3786"
            ],
            [
             0.5555555555555556,
             "#d8576b"
            ],
            [
             0.6666666666666666,
             "#ed7953"
            ],
            [
             0.7777777777777778,
             "#fb9f3a"
            ],
            [
             0.8888888888888888,
             "#fdca26"
            ],
            [
             1,
             "#f0f921"
            ]
           ]
          },
          "colorway": [
           "#636efa",
           "#EF553B",
           "#00cc96",
           "#ab63fa",
           "#FFA15A",
           "#19d3f3",
           "#FF6692",
           "#B6E880",
           "#FF97FF",
           "#FECB52"
          ],
          "font": {
           "color": "#f2f5fa"
          },
          "geo": {
           "bgcolor": "rgb(17,17,17)",
           "lakecolor": "rgb(17,17,17)",
           "landcolor": "rgb(17,17,17)",
           "showlakes": true,
           "showland": true,
           "subunitcolor": "#506784"
          },
          "hoverlabel": {
           "align": "left"
          },
          "hovermode": "closest",
          "mapbox": {
           "style": "dark"
          },
          "paper_bgcolor": "rgb(17,17,17)",
          "plot_bgcolor": "rgb(17,17,17)",
          "polar": {
           "angularaxis": {
            "gridcolor": "#506784",
            "linecolor": "#506784",
            "ticks": ""
           },
           "bgcolor": "rgb(17,17,17)",
           "radialaxis": {
            "gridcolor": "#506784",
            "linecolor": "#506784",
            "ticks": ""
           }
          },
          "scene": {
           "xaxis": {
            "backgroundcolor": "rgb(17,17,17)",
            "gridcolor": "#506784",
            "gridwidth": 2,
            "linecolor": "#506784",
            "showbackground": true,
            "ticks": "",
            "zerolinecolor": "#C8D4E3"
           },
           "yaxis": {
            "backgroundcolor": "rgb(17,17,17)",
            "gridcolor": "#506784",
            "gridwidth": 2,
            "linecolor": "#506784",
            "showbackground": true,
            "ticks": "",
            "zerolinecolor": "#C8D4E3"
           },
           "zaxis": {
            "backgroundcolor": "rgb(17,17,17)",
            "gridcolor": "#506784",
            "gridwidth": 2,
            "linecolor": "#506784",
            "showbackground": true,
            "ticks": "",
            "zerolinecolor": "#C8D4E3"
           }
          },
          "shapedefaults": {
           "line": {
            "color": "#f2f5fa"
           }
          },
          "sliderdefaults": {
           "bgcolor": "#C8D4E3",
           "bordercolor": "rgb(17,17,17)",
           "borderwidth": 1,
           "tickwidth": 0
          },
          "ternary": {
           "aaxis": {
            "gridcolor": "#506784",
            "linecolor": "#506784",
            "ticks": ""
           },
           "baxis": {
            "gridcolor": "#506784",
            "linecolor": "#506784",
            "ticks": ""
           },
           "bgcolor": "rgb(17,17,17)",
           "caxis": {
            "gridcolor": "#506784",
            "linecolor": "#506784",
            "ticks": ""
           }
          },
          "title": {
           "x": 0.05
          },
          "updatemenudefaults": {
           "bgcolor": "#506784",
           "borderwidth": 0
          },
          "xaxis": {
           "automargin": true,
           "gridcolor": "#283442",
           "linecolor": "#506784",
           "ticks": "",
           "title": {
            "standoff": 15
           },
           "zerolinecolor": "#283442",
           "zerolinewidth": 2
          },
          "yaxis": {
           "automargin": true,
           "gridcolor": "#283442",
           "linecolor": "#506784",
           "ticks": "",
           "title": {
            "standoff": 15
           },
           "zerolinecolor": "#283442",
           "zerolinewidth": 2
          }
         }
        },
        "title": {
         "text": "Rating medio per decennio per genere",
         "x": 0.5,
         "xanchor": "center",
         "y": 0.97,
         "yanchor": "top"
        },
        "width": 1200,
        "xaxis": {
         "anchor": "y",
         "domain": [
          0,
          1
         ],
         "dtick": 10,
         "tick0": 1900,
         "title": {
          "text": "Decennio"
         }
        },
        "yaxis": {
         "anchor": "x",
         "domain": [
          0,
          1
         ],
         "range": [
          2.8,
          3.712857142857143
         ],
         "title": {
          "text": "Rating Medio"
         }
        }
       }
      }
     },
     "metadata": {},
     "output_type": "display_data"
    }
   ],
   "source": [
    "# Studio delle relazioni tra generi cinematografici, premi Oscar, attori e valutazioni\n",
    "#ipotesi: c'è correlazione per un determinato genere in un periodo di tempo a ottenere rating piu alto? o vincere di piu? ovvero, ci sono state delle mode che hanno influenzato i risultati \"tecnici\"?\n",
    "\n",
    "import pandas as pd\n",
    "import plotly.express as px\n",
    "import psycopg2\n",
    "\n",
    "\n",
    "def run_query(query):\n",
    "    try:\n",
    "        conn = psycopg2.connect(\n",
    "            dbname=\"SQLDB\",\n",
    "            user=\"postgres\",\n",
    "            password=\"root\",\n",
    "            host=\"localhost\",\n",
    "            port=\"5432\"\n",
    "        )\n",
    "        df = pd.read_sql(query, conn)\n",
    "        conn.close()\n",
    "        return df\n",
    "    except Exception as e:\n",
    "        print(f\"Database error: {e}\")\n",
    "        return pd.DataFrame()\n",
    "    \n",
    "\n",
    "\n",
    "# 1: Rating medio per decennio per genere\n",
    "\n",
    "rating_by_decade_query = \"\"\"\n",
    "SELECT \n",
    "    g.genre,\n",
    "    FLOOR(m.year / 10) * 10 AS decade,\n",
    "    AVG(m.rating) AS avg_rating,\n",
    "    COUNT(m.id) AS film_count\n",
    "FROM movies m\n",
    "JOIN genres g ON m.id = g.id_movie\n",
    "WHERE m.year IS NOT NULL AND m.rating IS NOT NULL AND m.year > 1910  --1910 per analizzare meglio l'obbiettivo\n",
    "GROUP BY g.genre, FLOOR(m.year / 10) * 10\n",
    "\"\"\"\n",
    "rating_by_decade = run_query(rating_by_decade_query)\n",
    "\n",
    "fig = px.line(\n",
    "    rating_by_decade,\n",
    "    x='decade',\n",
    "    y='avg_rating',\n",
    "    color='genre',\n",
    "    template='plotly_dark',\n",
    "    markers=True,  #pallini per lhover delle label\n",
    "    labels={'decade': 'Decennio', 'avg_rating': 'Rating Medio'},\n",
    "    height=1000,  \n",
    "    width=1200   \n",
    ")\n",
    "\n",
    "fig.update_layout(\n",
    "    title=dict(\n",
    "        text='Rating medio per decennio per genere',\n",
    "        y=0.97,\n",
    "        x=0.5,\n",
    "        xanchor='center',\n",
    "        yanchor='top'\n",
    "    ),\n",
    "    xaxis=dict(tick0=1900, dtick=10),\n",
    "    yaxis=dict(range=[2.8, rating_by_decade['avg_rating'].max()+0.04]), \n",
    "    legend=dict(\n",
    "        title='Generi',\n",
    "        yanchor='top',\n",
    "        xanchor='right',\n",
    "        y=1,\n",
    "        x=1.1\n",
    "    )\n",
    "        \n",
    ")\n",
    "\n",
    "fig.show()"
   ]
  },
  {
   "cell_type": "code",
   "execution_count": 108,
   "id": "356d80d4c74b18c2",
   "metadata": {},
   "outputs": [
    {
     "name": "stderr",
     "output_type": "stream",
     "text": [
      "C:\\Users\\aronn\\AppData\\Local\\Temp\\ipykernel_18064\\2753813331.py:18: UserWarning:\n",
      "\n",
      "pandas only supports SQLAlchemy connectable (engine/connection) or database string URI or sqlite3 DBAPI2 connection. Other DBAPI2 objects are not tested. Please consider using SQLAlchemy.\n",
      "\n"
     ]
    },
    {
     "data": {
      "application/vnd.plotly.v1+json": {
       "config": {
        "plotlyServerURL": "https://plot.ly"
       },
       "data": [
        {
         "hovertemplate": "genre=Action<br>Decennio=%{x}<br>Film vincitori di Oscar=%{y}<extra></extra>",
         "legendgroup": "Action",
         "line": {
          "color": "#636efa",
          "dash": "solid"
         },
         "marker": {
          "symbol": "circle"
         },
         "mode": "lines+markers",
         "name": "Action",
         "orientation": "v",
         "showlegend": true,
         "type": "scatter",
         "x": {
          "bdata": "AAAAAACwnUAAAAAAANidQAAAAAAAAJ5AAAAAAAAonkAAAAAAAFCeQAAAAAAAeJ5AAAAAAACgnkAAAAAAAMieQAAAAAAA8J5AAAAAAAAYn0AAAAAAAECfQAAAAAAAaJ9AAAAAAACQn0A=",
          "dtype": "f8"
         },
         "xaxis": "x",
         "y": {
          "bdata": "AAABCQ0FCg4ZGh8sFg==",
          "dtype": "i1"
         },
         "yaxis": "y"
        },
        {
         "hovertemplate": "genre=Adventure<br>Decennio=%{x}<br>Film vincitori di Oscar=%{y}<extra></extra>",
         "legendgroup": "Adventure",
         "line": {
          "color": "#EF553B",
          "dash": "solid"
         },
         "marker": {
          "symbol": "circle"
         },
         "mode": "lines+markers",
         "name": "Adventure",
         "orientation": "v",
         "showlegend": true,
         "type": "scatter",
         "x": {
          "bdata": "AAAAAACwnUAAAAAAANidQAAAAAAAAJ5AAAAAAAAonkAAAAAAAFCeQAAAAAAAeJ5AAAAAAACgnkAAAAAAAMieQAAAAAAA8J5AAAAAAAAYn0AAAAAAAECfQAAAAAAAaJ9AAAAAAACQn0A=",
          "dtype": "f8"
         },
         "xaxis": "x",
         "y": {
          "bdata": "AAEEDw0NExIZHw8uEw==",
          "dtype": "i1"
         },
         "yaxis": "y"
        },
        {
         "hovertemplate": "genre=Animation<br>Decennio=%{x}<br>Film vincitori di Oscar=%{y}<extra></extra>",
         "legendgroup": "Animation",
         "line": {
          "color": "#00cc96",
          "dash": "solid"
         },
         "marker": {
          "symbol": "circle"
         },
         "mode": "lines+markers",
         "name": "Animation",
         "orientation": "v",
         "showlegend": true,
         "type": "scatter",
         "x": {
          "bdata": "AAAAAACwnUAAAAAAANidQAAAAAAAAJ5AAAAAAAAonkAAAAAAAFCeQAAAAAAAeJ5AAAAAAACgnkAAAAAAAMieQAAAAAAA8J5AAAAAAAAYn0AAAAAAAECfQAAAAAAAaJ9AAAAAAACQn0A=",
          "dtype": "f8"
         },
         "xaxis": "x",
         "y": {
          "bdata": "AAACDw0PFRYqPyNcMg==",
          "dtype": "i1"
         },
         "yaxis": "y"
        },
        {
         "hovertemplate": "genre=Comedy<br>Decennio=%{x}<br>Film vincitori di Oscar=%{y}<extra></extra>",
         "legendgroup": "Comedy",
         "line": {
          "color": "#ab63fa",
          "dash": "solid"
         },
         "marker": {
          "symbol": "circle"
         },
         "mode": "lines+markers",
         "name": "Comedy",
         "orientation": "v",
         "showlegend": true,
         "type": "scatter",
         "x": {
          "bdata": "AAAAAACwnUAAAAAAANidQAAAAAAAAJ5AAAAAAAAonkAAAAAAAFCeQAAAAAAAeJ5AAAAAAACgnkAAAAAAAMieQAAAAAAA8J5AAAAAAAAYn0AAAAAAAECfQAAAAAAAaJ9AAAAAAACQn0A=",
          "dtype": "f8"
         },
         "xaxis": "x",
         "y": {
          "bdata": "AgMMLB4nKDAtRTxlOw==",
          "dtype": "i1"
         },
         "yaxis": "y"
        },
        {
         "hovertemplate": "genre=Crime<br>Decennio=%{x}<br>Film vincitori di Oscar=%{y}<extra></extra>",
         "legendgroup": "Crime",
         "line": {
          "color": "#FFA15A",
          "dash": "solid"
         },
         "marker": {
          "symbol": "circle"
         },
         "mode": "lines+markers",
         "name": "Crime",
         "orientation": "v",
         "showlegend": true,
         "type": "scatter",
         "x": {
          "bdata": "AAAAAACwnUAAAAAAANidQAAAAAAAAJ5AAAAAAAAonkAAAAAAAFCeQAAAAAAAeJ5AAAAAAACgnkAAAAAAAMieQAAAAAAA8J5AAAAAAAAYn0AAAAAAAECfQAAAAAAAaJ9AAAAAAACQn0A=",
          "dtype": "f8"
         },
         "xaxis": "x",
         "y": {
          "bdata": "AQEDCQwKDRMPEyImGg==",
          "dtype": "i1"
         },
         "yaxis": "y"
        },
        {
         "hovertemplate": "genre=Documentary<br>Decennio=%{x}<br>Film vincitori di Oscar=%{y}<extra></extra>",
         "legendgroup": "Documentary",
         "line": {
          "color": "#19d3f3",
          "dash": "solid"
         },
         "marker": {
          "symbol": "circle"
         },
         "mode": "lines+markers",
         "name": "Documentary",
         "orientation": "v",
         "showlegend": true,
         "type": "scatter",
         "x": {
          "bdata": "AAAAAACwnUAAAAAAANidQAAAAAAAAJ5AAAAAAAAonkAAAAAAAFCeQAAAAAAAeJ5AAAAAAACgnkAAAAAAAMieQAAAAAAA8J5AAAAAAAAYn0AAAAAAAECfQAAAAAAAaJ9AAAAAAACQn0A=",
          "dtype": "f8"
         },
         "xaxis": "x",
         "y": {
          "bdata": "AgAACBkWExYXGTtlSA==",
          "dtype": "i1"
         },
         "yaxis": "y"
        },
        {
         "hovertemplate": "genre=Drama<br>Decennio=%{x}<br>Film vincitori di Oscar=%{y}<extra></extra>",
         "legendgroup": "Drama",
         "line": {
          "color": "#FF6692",
          "dash": "solid"
         },
         "marker": {
          "symbol": "circle"
         },
         "mode": "lines+markers",
         "name": "Drama",
         "orientation": "v",
         "showlegend": true,
         "type": "scatter",
         "x": {
          "bdata": "AAAAAACwnUAAAAAAANidQAAAAAAAAJ5AAAAAAAAonkAAAAAAAFCeQAAAAAAAeJ5AAAAAAACgnkAAAAAAAMieQAAAAAAA8J5AAAAAAAAYn0AAAAAAAECfQAAAAAAAaJ9AAAAAAACQn0A=",
          "dtype": "f8"
         },
         "xaxis": "x",
         "y": {
          "bdata": "AwAdACYAWQBlAGcAZQCOAKMAngDpAKkB0gA=",
          "dtype": "i2"
         },
         "yaxis": "y"
        },
        {
         "hovertemplate": "genre=Family<br>Decennio=%{x}<br>Film vincitori di Oscar=%{y}<extra></extra>",
         "legendgroup": "Family",
         "line": {
          "color": "#B6E880",
          "dash": "solid"
         },
         "marker": {
          "symbol": "circle"
         },
         "mode": "lines+markers",
         "name": "Family",
         "orientation": "v",
         "showlegend": true,
         "type": "scatter",
         "x": {
          "bdata": "AAAAAACwnUAAAAAAANidQAAAAAAAAJ5AAAAAAAAonkAAAAAAAFCeQAAAAAAAeJ5AAAAAAACgnkAAAAAAAMieQAAAAAAA8J5AAAAAAAAYn0AAAAAAAECfQAAAAAAAaJ9AAAAAAACQn0A=",
          "dtype": "f8"
         },
         "xaxis": "x",
         "y": {
          "bdata": "AQMBCw8NDRQSJhQzDw==",
          "dtype": "i1"
         },
         "yaxis": "y"
        },
        {
         "hovertemplate": "genre=Fantasy<br>Decennio=%{x}<br>Film vincitori di Oscar=%{y}<extra></extra>",
         "legendgroup": "Fantasy",
         "line": {
          "color": "#FF97FF",
          "dash": "solid"
         },
         "marker": {
          "symbol": "circle"
         },
         "mode": "lines+markers",
         "name": "Fantasy",
         "orientation": "v",
         "showlegend": true,
         "type": "scatter",
         "x": {
          "bdata": "AAAAAACwnUAAAAAAANidQAAAAAAAAJ5AAAAAAAAonkAAAAAAAFCeQAAAAAAAeJ5AAAAAAACgnkAAAAAAAMieQAAAAAAA8J5AAAAAAAAYn0AAAAAAAECfQAAAAAAAaJ9AAAAAAACQn0A=",
          "dtype": "f8"
         },
         "xaxis": "x",
         "y": {
          "bdata": "AgYECRAIDRYZHBMtGg==",
          "dtype": "i1"
         },
         "yaxis": "y"
        },
        {
         "hovertemplate": "genre=History<br>Decennio=%{x}<br>Film vincitori di Oscar=%{y}<extra></extra>",
         "legendgroup": "History",
         "line": {
          "color": "#FECB52",
          "dash": "solid"
         },
         "marker": {
          "symbol": "circle"
         },
         "mode": "lines+markers",
         "name": "History",
         "orientation": "v",
         "showlegend": true,
         "type": "scatter",
         "x": {
          "bdata": "AAAAAACwnUAAAAAAANidQAAAAAAAAJ5AAAAAAAAonkAAAAAAAFCeQAAAAAAAeJ5AAAAAAACgnkAAAAAAAMieQAAAAAAA8J5AAAAAAAAYn0AAAAAAAECfQAAAAAAAaJ9AAAAAAACQn0A=",
          "dtype": "f8"
         },
         "xaxis": "x",
         "y": {
          "bdata": "AQMFFA0PEA0XGBItCQ==",
          "dtype": "i1"
         },
         "yaxis": "y"
        },
        {
         "hovertemplate": "genre=Horror<br>Decennio=%{x}<br>Film vincitori di Oscar=%{y}<extra></extra>",
         "legendgroup": "Horror",
         "line": {
          "color": "#636efa",
          "dash": "solid"
         },
         "marker": {
          "symbol": "circle"
         },
         "mode": "lines+markers",
         "name": "Horror",
         "orientation": "v",
         "showlegend": true,
         "type": "scatter",
         "x": {
          "bdata": "AAAAAACwnUAAAAAAANidQAAAAAAAAJ5AAAAAAAAonkAAAAAAAFCeQAAAAAAAeJ5AAAAAAACgnkAAAAAAAMieQAAAAAAA8J5AAAAAAAAYn0AAAAAAAECfQAAAAAAAaJ9AAAAAAACQn0A=",
          "dtype": "f8"
         },
         "xaxis": "x",
         "y": {
          "bdata": "AAEAAQMBBAoPChRBQA==",
          "dtype": "i1"
         },
         "yaxis": "y"
        },
        {
         "hovertemplate": "genre=Music<br>Decennio=%{x}<br>Film vincitori di Oscar=%{y}<extra></extra>",
         "legendgroup": "Music",
         "line": {
          "color": "#EF553B",
          "dash": "solid"
         },
         "marker": {
          "symbol": "circle"
         },
         "mode": "lines+markers",
         "name": "Music",
         "orientation": "v",
         "showlegend": true,
         "type": "scatter",
         "x": {
          "bdata": "AAAAAACwnUAAAAAAANidQAAAAAAAAJ5AAAAAAAAonkAAAAAAAFCeQAAAAAAAeJ5AAAAAAACgnkAAAAAAAMieQAAAAAAA8J5AAAAAAAAYn0AAAAAAAECfQAAAAAAAaJ9AAAAAAACQn0A=",
          "dtype": "f8"
         },
         "xaxis": "x",
         "y": {
          "bdata": "AAADExYbDhMSERYkDQ==",
          "dtype": "i1"
         },
         "yaxis": "y"
        },
        {
         "hovertemplate": "genre=Mystery<br>Decennio=%{x}<br>Film vincitori di Oscar=%{y}<extra></extra>",
         "legendgroup": "Mystery",
         "line": {
          "color": "#00cc96",
          "dash": "solid"
         },
         "marker": {
          "symbol": "circle"
         },
         "mode": "lines+markers",
         "name": "Mystery",
         "orientation": "v",
         "showlegend": true,
         "type": "scatter",
         "x": {
          "bdata": "AAAAAADYnUAAAAAAAACeQAAAAAAAKJ5AAAAAAABQnkAAAAAAAHieQAAAAAAAoJ5AAAAAAADInkAAAAAAAPCeQAAAAAAAGJ9AAAAAAABAn0AAAAAAAGifQAAAAAAAkJ9A",
          "dtype": "f8"
         },
         "xaxis": "x",
         "y": {
          "bdata": "AAABDwQEBwUHEh4h",
          "dtype": "i1"
         },
         "yaxis": "y"
        },
        {
         "hovertemplate": "genre=Romance<br>Decennio=%{x}<br>Film vincitori di Oscar=%{y}<extra></extra>",
         "legendgroup": "Romance",
         "line": {
          "color": "#ab63fa",
          "dash": "solid"
         },
         "marker": {
          "symbol": "circle"
         },
         "mode": "lines+markers",
         "name": "Romance",
         "orientation": "v",
         "showlegend": true,
         "type": "scatter",
         "x": {
          "bdata": "AAAAAACwnUAAAAAAANidQAAAAAAAAJ5AAAAAAAAonkAAAAAAAFCeQAAAAAAAeJ5AAAAAAACgnkAAAAAAAMieQAAAAAAA8J5AAAAAAAAYn0AAAAAAAECfQAAAAAAAaJ9AAAAAAACQn0A=",
          "dtype": "f8"
         },
         "xaxis": "x",
         "y": {
          "bdata": "AAQSNDU5LCUpOz9MIw==",
          "dtype": "i1"
         },
         "yaxis": "y"
        },
        {
         "hovertemplate": "genre=Science Fiction<br>Decennio=%{x}<br>Film vincitori di Oscar=%{y}<extra></extra>",
         "legendgroup": "Science Fiction",
         "line": {
          "color": "#FFA15A",
          "dash": "solid"
         },
         "marker": {
          "symbol": "circle"
         },
         "mode": "lines+markers",
         "name": "Science Fiction",
         "orientation": "v",
         "showlegend": true,
         "type": "scatter",
         "x": {
          "bdata": "AAAAAACwnUAAAAAAANidQAAAAAAAAJ5AAAAAAAAonkAAAAAAAFCeQAAAAAAAeJ5AAAAAAACgnkAAAAAAAMieQAAAAAAA8J5AAAAAAAAYn0AAAAAAAECfQAAAAAAAaJ9AAAAAAACQn0A=",
          "dtype": "f8"
         },
         "xaxis": "x",
         "y": {
          "bdata": "AAAAAAMFBgcQDgchFg==",
          "dtype": "i1"
         },
         "yaxis": "y"
        },
        {
         "hovertemplate": "genre=Thriller<br>Decennio=%{x}<br>Film vincitori di Oscar=%{y}<extra></extra>",
         "legendgroup": "Thriller",
         "line": {
          "color": "#19d3f3",
          "dash": "solid"
         },
         "marker": {
          "symbol": "circle"
         },
         "mode": "lines+markers",
         "name": "Thriller",
         "orientation": "v",
         "showlegend": true,
         "type": "scatter",
         "x": {
          "bdata": "AAAAAACwnUAAAAAAANidQAAAAAAAAJ5AAAAAAAAonkAAAAAAAFCeQAAAAAAAeJ5AAAAAAACgnkAAAAAAAMieQAAAAAAA8J5AAAAAAAAYn0AAAAAAAECfQAAAAAAAaJ9AAAAAAACQn0A=",
          "dtype": "f8"
         },
         "xaxis": "x",
         "y": {
          "bdata": "AAECBA8ICBUSGC1SNA==",
          "dtype": "i1"
         },
         "yaxis": "y"
        },
        {
         "hovertemplate": "genre=TV Movie<br>Decennio=%{x}<br>Film vincitori di Oscar=%{y}<extra></extra>",
         "legendgroup": "TV Movie",
         "line": {
          "color": "#FF6692",
          "dash": "solid"
         },
         "marker": {
          "symbol": "circle"
         },
         "mode": "lines+markers",
         "name": "TV Movie",
         "orientation": "v",
         "showlegend": true,
         "type": "scatter",
         "x": {
          "bdata": "AAAAAAAonkAAAAAAAFCeQAAAAAAAeJ5AAAAAAACgnkAAAAAAAMieQAAAAAAA8J5AAAAAAAAYn0AAAAAAAECfQAAAAAAAaJ9AAAAAAACQn0A=",
          "dtype": "f8"
         },
         "xaxis": "x",
         "y": {
          "bdata": "AgEPCh4nExkKBA==",
          "dtype": "i1"
         },
         "yaxis": "y"
        },
        {
         "hovertemplate": "genre=War<br>Decennio=%{x}<br>Film vincitori di Oscar=%{y}<extra></extra>",
         "legendgroup": "War",
         "line": {
          "color": "#B6E880",
          "dash": "solid"
         },
         "marker": {
          "symbol": "circle"
         },
         "mode": "lines+markers",
         "name": "War",
         "orientation": "v",
         "showlegend": true,
         "type": "scatter",
         "x": {
          "bdata": "AAAAAACwnUAAAAAAANidQAAAAAAAAJ5AAAAAAAAonkAAAAAAAFCeQAAAAAAAeJ5AAAAAAACgnkAAAAAAAMieQAAAAAAA8J5AAAAAAAAYn0AAAAAAAECfQAAAAAAAaJ9AAAAAAACQn0A=",
          "dtype": "f8"
         },
         "xaxis": "x",
         "y": {
          "bdata": "AAEEChsPEREJDRAUBA==",
          "dtype": "i1"
         },
         "yaxis": "y"
        },
        {
         "hovertemplate": "genre=Western<br>Decennio=%{x}<br>Film vincitori di Oscar=%{y}<extra></extra>",
         "legendgroup": "Western",
         "line": {
          "color": "#FF97FF",
          "dash": "solid"
         },
         "marker": {
          "symbol": "circle"
         },
         "mode": "lines+markers",
         "name": "Western",
         "orientation": "v",
         "showlegend": true,
         "type": "scatter",
         "x": {
          "bdata": "AAAAAACwnUAAAAAAANidQAAAAAAAAJ5AAAAAAAAonkAAAAAAAFCeQAAAAAAAeJ5AAAAAAACgnkAAAAAAAMieQAAAAAAA8J5AAAAAAAAYn0AAAAAAAECfQAAAAAAAaJ9AAAAAAACQn0A=",
          "dtype": "f8"
         },
         "xaxis": "x",
         "y": {
          "bdata": "AAIEBQoMCgMCBAIHAg==",
          "dtype": "i1"
         },
         "yaxis": "y"
        }
       ],
       "layout": {
        "annotations": [
         {
          "bordercolor": "#ffd700",
          "borderpad": 4,
          "opacity": 0.9,
          "showarrow": false,
          "text": "Picco negli anni per i generi Drammatici, 425 nel 2010",
          "x": 2010,
          "y": 243
         }
        ],
        "height": 1000,
        "legend": {
         "title": {
          "text": "Generi"
         },
         "tracegroupgap": 0,
         "x": 1.1,
         "xanchor": "right",
         "y": 0.7,
         "yanchor": "top"
        },
        "margin": {
         "t": 60
        },
        "template": {
         "data": {
          "bar": [
           {
            "error_x": {
             "color": "#f2f5fa"
            },
            "error_y": {
             "color": "#f2f5fa"
            },
            "marker": {
             "line": {
              "color": "rgb(17,17,17)",
              "width": 0.5
             },
             "pattern": {
              "fillmode": "overlay",
              "size": 10,
              "solidity": 0.2
             }
            },
            "type": "bar"
           }
          ],
          "barpolar": [
           {
            "marker": {
             "line": {
              "color": "rgb(17,17,17)",
              "width": 0.5
             },
             "pattern": {
              "fillmode": "overlay",
              "size": 10,
              "solidity": 0.2
             }
            },
            "type": "barpolar"
           }
          ],
          "carpet": [
           {
            "aaxis": {
             "endlinecolor": "#A2B1C6",
             "gridcolor": "#506784",
             "linecolor": "#506784",
             "minorgridcolor": "#506784",
             "startlinecolor": "#A2B1C6"
            },
            "baxis": {
             "endlinecolor": "#A2B1C6",
             "gridcolor": "#506784",
             "linecolor": "#506784",
             "minorgridcolor": "#506784",
             "startlinecolor": "#A2B1C6"
            },
            "type": "carpet"
           }
          ],
          "choropleth": [
           {
            "colorbar": {
             "outlinewidth": 0,
             "ticks": ""
            },
            "type": "choropleth"
           }
          ],
          "contour": [
           {
            "colorbar": {
             "outlinewidth": 0,
             "ticks": ""
            },
            "colorscale": [
             [
              0,
              "#0d0887"
             ],
             [
              0.1111111111111111,
              "#46039f"
             ],
             [
              0.2222222222222222,
              "#7201a8"
             ],
             [
              0.3333333333333333,
              "#9c179e"
             ],
             [
              0.4444444444444444,
              "#bd3786"
             ],
             [
              0.5555555555555556,
              "#d8576b"
             ],
             [
              0.6666666666666666,
              "#ed7953"
             ],
             [
              0.7777777777777778,
              "#fb9f3a"
             ],
             [
              0.8888888888888888,
              "#fdca26"
             ],
             [
              1,
              "#f0f921"
             ]
            ],
            "type": "contour"
           }
          ],
          "contourcarpet": [
           {
            "colorbar": {
             "outlinewidth": 0,
             "ticks": ""
            },
            "type": "contourcarpet"
           }
          ],
          "heatmap": [
           {
            "colorbar": {
             "outlinewidth": 0,
             "ticks": ""
            },
            "colorscale": [
             [
              0,
              "#0d0887"
             ],
             [
              0.1111111111111111,
              "#46039f"
             ],
             [
              0.2222222222222222,
              "#7201a8"
             ],
             [
              0.3333333333333333,
              "#9c179e"
             ],
             [
              0.4444444444444444,
              "#bd3786"
             ],
             [
              0.5555555555555556,
              "#d8576b"
             ],
             [
              0.6666666666666666,
              "#ed7953"
             ],
             [
              0.7777777777777778,
              "#fb9f3a"
             ],
             [
              0.8888888888888888,
              "#fdca26"
             ],
             [
              1,
              "#f0f921"
             ]
            ],
            "type": "heatmap"
           }
          ],
          "histogram": [
           {
            "marker": {
             "pattern": {
              "fillmode": "overlay",
              "size": 10,
              "solidity": 0.2
             }
            },
            "type": "histogram"
           }
          ],
          "histogram2d": [
           {
            "colorbar": {
             "outlinewidth": 0,
             "ticks": ""
            },
            "colorscale": [
             [
              0,
              "#0d0887"
             ],
             [
              0.1111111111111111,
              "#46039f"
             ],
             [
              0.2222222222222222,
              "#7201a8"
             ],
             [
              0.3333333333333333,
              "#9c179e"
             ],
             [
              0.4444444444444444,
              "#bd3786"
             ],
             [
              0.5555555555555556,
              "#d8576b"
             ],
             [
              0.6666666666666666,
              "#ed7953"
             ],
             [
              0.7777777777777778,
              "#fb9f3a"
             ],
             [
              0.8888888888888888,
              "#fdca26"
             ],
             [
              1,
              "#f0f921"
             ]
            ],
            "type": "histogram2d"
           }
          ],
          "histogram2dcontour": [
           {
            "colorbar": {
             "outlinewidth": 0,
             "ticks": ""
            },
            "colorscale": [
             [
              0,
              "#0d0887"
             ],
             [
              0.1111111111111111,
              "#46039f"
             ],
             [
              0.2222222222222222,
              "#7201a8"
             ],
             [
              0.3333333333333333,
              "#9c179e"
             ],
             [
              0.4444444444444444,
              "#bd3786"
             ],
             [
              0.5555555555555556,
              "#d8576b"
             ],
             [
              0.6666666666666666,
              "#ed7953"
             ],
             [
              0.7777777777777778,
              "#fb9f3a"
             ],
             [
              0.8888888888888888,
              "#fdca26"
             ],
             [
              1,
              "#f0f921"
             ]
            ],
            "type": "histogram2dcontour"
           }
          ],
          "mesh3d": [
           {
            "colorbar": {
             "outlinewidth": 0,
             "ticks": ""
            },
            "type": "mesh3d"
           }
          ],
          "parcoords": [
           {
            "line": {
             "colorbar": {
              "outlinewidth": 0,
              "ticks": ""
             }
            },
            "type": "parcoords"
           }
          ],
          "pie": [
           {
            "automargin": true,
            "type": "pie"
           }
          ],
          "scatter": [
           {
            "marker": {
             "line": {
              "color": "#283442"
             }
            },
            "type": "scatter"
           }
          ],
          "scatter3d": [
           {
            "line": {
             "colorbar": {
              "outlinewidth": 0,
              "ticks": ""
             }
            },
            "marker": {
             "colorbar": {
              "outlinewidth": 0,
              "ticks": ""
             }
            },
            "type": "scatter3d"
           }
          ],
          "scattercarpet": [
           {
            "marker": {
             "colorbar": {
              "outlinewidth": 0,
              "ticks": ""
             }
            },
            "type": "scattercarpet"
           }
          ],
          "scattergeo": [
           {
            "marker": {
             "colorbar": {
              "outlinewidth": 0,
              "ticks": ""
             }
            },
            "type": "scattergeo"
           }
          ],
          "scattergl": [
           {
            "marker": {
             "line": {
              "color": "#283442"
             }
            },
            "type": "scattergl"
           }
          ],
          "scattermap": [
           {
            "marker": {
             "colorbar": {
              "outlinewidth": 0,
              "ticks": ""
             }
            },
            "type": "scattermap"
           }
          ],
          "scattermapbox": [
           {
            "marker": {
             "colorbar": {
              "outlinewidth": 0,
              "ticks": ""
             }
            },
            "type": "scattermapbox"
           }
          ],
          "scatterpolar": [
           {
            "marker": {
             "colorbar": {
              "outlinewidth": 0,
              "ticks": ""
             }
            },
            "type": "scatterpolar"
           }
          ],
          "scatterpolargl": [
           {
            "marker": {
             "colorbar": {
              "outlinewidth": 0,
              "ticks": ""
             }
            },
            "type": "scatterpolargl"
           }
          ],
          "scatterternary": [
           {
            "marker": {
             "colorbar": {
              "outlinewidth": 0,
              "ticks": ""
             }
            },
            "type": "scatterternary"
           }
          ],
          "surface": [
           {
            "colorbar": {
             "outlinewidth": 0,
             "ticks": ""
            },
            "colorscale": [
             [
              0,
              "#0d0887"
             ],
             [
              0.1111111111111111,
              "#46039f"
             ],
             [
              0.2222222222222222,
              "#7201a8"
             ],
             [
              0.3333333333333333,
              "#9c179e"
             ],
             [
              0.4444444444444444,
              "#bd3786"
             ],
             [
              0.5555555555555556,
              "#d8576b"
             ],
             [
              0.6666666666666666,
              "#ed7953"
             ],
             [
              0.7777777777777778,
              "#fb9f3a"
             ],
             [
              0.8888888888888888,
              "#fdca26"
             ],
             [
              1,
              "#f0f921"
             ]
            ],
            "type": "surface"
           }
          ],
          "table": [
           {
            "cells": {
             "fill": {
              "color": "#506784"
             },
             "line": {
              "color": "rgb(17,17,17)"
             }
            },
            "header": {
             "fill": {
              "color": "#2a3f5f"
             },
             "line": {
              "color": "rgb(17,17,17)"
             }
            },
            "type": "table"
           }
          ]
         },
         "layout": {
          "annotationdefaults": {
           "arrowcolor": "#f2f5fa",
           "arrowhead": 0,
           "arrowwidth": 1
          },
          "autotypenumbers": "strict",
          "coloraxis": {
           "colorbar": {
            "outlinewidth": 0,
            "ticks": ""
           }
          },
          "colorscale": {
           "diverging": [
            [
             0,
             "#8e0152"
            ],
            [
             0.1,
             "#c51b7d"
            ],
            [
             0.2,
             "#de77ae"
            ],
            [
             0.3,
             "#f1b6da"
            ],
            [
             0.4,
             "#fde0ef"
            ],
            [
             0.5,
             "#f7f7f7"
            ],
            [
             0.6,
             "#e6f5d0"
            ],
            [
             0.7,
             "#b8e186"
            ],
            [
             0.8,
             "#7fbc41"
            ],
            [
             0.9,
             "#4d9221"
            ],
            [
             1,
             "#276419"
            ]
           ],
           "sequential": [
            [
             0,
             "#0d0887"
            ],
            [
             0.1111111111111111,
             "#46039f"
            ],
            [
             0.2222222222222222,
             "#7201a8"
            ],
            [
             0.3333333333333333,
             "#9c179e"
            ],
            [
             0.4444444444444444,
             "#bd3786"
            ],
            [
             0.5555555555555556,
             "#d8576b"
            ],
            [
             0.6666666666666666,
             "#ed7953"
            ],
            [
             0.7777777777777778,
             "#fb9f3a"
            ],
            [
             0.8888888888888888,
             "#fdca26"
            ],
            [
             1,
             "#f0f921"
            ]
           ],
           "sequentialminus": [
            [
             0,
             "#0d0887"
            ],
            [
             0.1111111111111111,
             "#46039f"
            ],
            [
             0.2222222222222222,
             "#7201a8"
            ],
            [
             0.3333333333333333,
             "#9c179e"
            ],
            [
             0.4444444444444444,
             "#bd3786"
            ],
            [
             0.5555555555555556,
             "#d8576b"
            ],
            [
             0.6666666666666666,
             "#ed7953"
            ],
            [
             0.7777777777777778,
             "#fb9f3a"
            ],
            [
             0.8888888888888888,
             "#fdca26"
            ],
            [
             1,
             "#f0f921"
            ]
           ]
          },
          "colorway": [
           "#636efa",
           "#EF553B",
           "#00cc96",
           "#ab63fa",
           "#FFA15A",
           "#19d3f3",
           "#FF6692",
           "#B6E880",
           "#FF97FF",
           "#FECB52"
          ],
          "font": {
           "color": "#f2f5fa"
          },
          "geo": {
           "bgcolor": "rgb(17,17,17)",
           "lakecolor": "rgb(17,17,17)",
           "landcolor": "rgb(17,17,17)",
           "showlakes": true,
           "showland": true,
           "subunitcolor": "#506784"
          },
          "hoverlabel": {
           "align": "left"
          },
          "hovermode": "closest",
          "mapbox": {
           "style": "dark"
          },
          "paper_bgcolor": "rgb(17,17,17)",
          "plot_bgcolor": "rgb(17,17,17)",
          "polar": {
           "angularaxis": {
            "gridcolor": "#506784",
            "linecolor": "#506784",
            "ticks": ""
           },
           "bgcolor": "rgb(17,17,17)",
           "radialaxis": {
            "gridcolor": "#506784",
            "linecolor": "#506784",
            "ticks": ""
           }
          },
          "scene": {
           "xaxis": {
            "backgroundcolor": "rgb(17,17,17)",
            "gridcolor": "#506784",
            "gridwidth": 2,
            "linecolor": "#506784",
            "showbackground": true,
            "ticks": "",
            "zerolinecolor": "#C8D4E3"
           },
           "yaxis": {
            "backgroundcolor": "rgb(17,17,17)",
            "gridcolor": "#506784",
            "gridwidth": 2,
            "linecolor": "#506784",
            "showbackground": true,
            "ticks": "",
            "zerolinecolor": "#C8D4E3"
           },
           "zaxis": {
            "backgroundcolor": "rgb(17,17,17)",
            "gridcolor": "#506784",
            "gridwidth": 2,
            "linecolor": "#506784",
            "showbackground": true,
            "ticks": "",
            "zerolinecolor": "#C8D4E3"
           }
          },
          "shapedefaults": {
           "line": {
            "color": "#f2f5fa"
           }
          },
          "sliderdefaults": {
           "bgcolor": "#C8D4E3",
           "bordercolor": "rgb(17,17,17)",
           "borderwidth": 1,
           "tickwidth": 0
          },
          "ternary": {
           "aaxis": {
            "gridcolor": "#506784",
            "linecolor": "#506784",
            "ticks": ""
           },
           "baxis": {
            "gridcolor": "#506784",
            "linecolor": "#506784",
            "ticks": ""
           },
           "bgcolor": "rgb(17,17,17)",
           "caxis": {
            "gridcolor": "#506784",
            "linecolor": "#506784",
            "ticks": ""
           }
          },
          "title": {
           "x": 0.05
          },
          "updatemenudefaults": {
           "bgcolor": "#506784",
           "borderwidth": 0
          },
          "xaxis": {
           "automargin": true,
           "gridcolor": "#283442",
           "linecolor": "#506784",
           "ticks": "",
           "title": {
            "standoff": 15
           },
           "zerolinecolor": "#283442",
           "zerolinewidth": 2
          },
          "yaxis": {
           "automargin": true,
           "gridcolor": "#283442",
           "linecolor": "#506784",
           "ticks": "",
           "title": {
            "standoff": 15
           },
           "zerolinecolor": "#283442",
           "zerolinewidth": 2
          }
         }
        },
        "title": {
         "text": "Numero di Film Vincitori di Oscar per Genere nei Decenni",
         "x": 0.5,
         "xanchor": "center",
         "y": 0.95,
         "yanchor": "top"
        },
        "width": 1200,
        "xaxis": {
         "anchor": "y",
         "domain": [
          0,
          1
         ],
         "range": [
          1909,
          2030
         ],
         "title": {
          "text": "Decennio"
         }
        },
        "yaxis": {
         "anchor": "x",
         "domain": [
          0,
          1
         ],
         "range": [
          0,
          250
         ],
         "title": {
          "text": "Film vincitori di Oscar"
         }
        }
       }
      }
     },
     "metadata": {},
     "output_type": "display_data"
    }
   ],
   "source": [
    "# 2 Oscar vinti per decennio per genere\n",
    "\n",
    "#crea una cte con solo i film che hanno vinto oscar, per ogni decennio e genere calcola il numero di film e fa join con la prima lista su name. serve la join perche oscar non ha generi \n",
    "\n",
    "oscars_by_decade_query = \"\"\"\n",
    "WITH oscar_films AS (\n",
    "    SELECT DISTINCT film as movie_title\n",
    "    FROM oscar_awards\n",
    "    WHERE winner = true)\n",
    "SELECT \n",
    "    g.genre,\n",
    "    FLOOR(m.year / 10) * 10 AS decade,\n",
    "    COUNT(DISTINCT CASE WHEN o.movie_title IS NOT NULL THEN m.id END) AS genre_oscars,\n",
    "    COUNT(DISTINCT m.id) AS total_films\n",
    "FROM movies m\n",
    "JOIN genres g ON m.id = g.id_movie\n",
    "LEFT JOIN oscar_films o ON LOWER(m.name) = LOWER(o.movie_title)  --lower anche se non è necessario usato in tutti  \n",
    "WHERE m.year IS NOT NULL AND m.year > 1900               \n",
    "GROUP BY g.genre, FLOOR(m.year / 10) * 10\n",
    "HAVING COUNT(DISTINCT m.id) > 5\n",
    "\"\"\"\n",
    "oscars_by_decade = run_query(oscars_by_decade_query)\n",
    "\n",
    "fig = px.line(\n",
    "    oscars_by_decade,\n",
    "    x='decade',\n",
    "    y='genre_oscars',\n",
    "    color='genre',\n",
    "    labels={'decade': 'Decennio', 'genre_oscars': 'Film vincitori di Oscar'},\n",
    "    template='plotly_dark',\n",
    "    markers=True,\n",
    "    height=1000,  \n",
    "    width=1200   \n",
    ")\n",
    "\n",
    "fig.update_layout(\n",
    "       title=dict(\n",
    "        text='Numero di Film Vincitori di Oscar per Genere nei Decenni',\n",
    "        y=0.95,\n",
    "        x=0.5,\n",
    "        xanchor='center',\n",
    "        yanchor='top'\n",
    "    ),\n",
    "    yaxis=dict(range=[0, oscars_by_decade['genre_oscars'].max()-175]), \n",
    "    xaxis=dict(range=[1909, oscars_by_decade['decade'].max()+10]),\n",
    "    legend=dict(\n",
    "        title='Generi',\n",
    "        yanchor='top',\n",
    "        y=0.7,\n",
    "        xanchor='right',\n",
    "        x=1.1\n",
    "    )    \n",
    ")\n",
    "\n",
    "fig.add_annotation(   #aggiunta annotazione per tagliare grafico per un punto solo di un gener/linea sola\n",
    "    x=2010, \n",
    "    y=243,\n",
    "    text=\"Picco negli anni per i generi Drammatici, 425 nel 2010\",\n",
    "    showarrow=False,\n",
    "    bordercolor='#ffd700',\n",
    "    borderpad=4,\n",
    "    opacity=0.9\n",
    ")\n",
    "\n",
    "fig.show()"
   ]
  },
  {
   "cell_type": "code",
   "execution_count": 109,
   "id": "35d15bb0c2dca467",
   "metadata": {},
   "outputs": [
    {
     "name": "stderr",
     "output_type": "stream",
     "text": [
      "C:\\Users\\aronn\\AppData\\Local\\Temp\\ipykernel_18064\\2753813331.py:18: UserWarning:\n",
      "\n",
      "pandas only supports SQLAlchemy connectable (engine/connection) or database string URI or sqlite3 DBAPI2 connection. Other DBAPI2 objects are not tested. Please consider using SQLAlchemy.\n",
      "\n"
     ]
    },
    {
     "data": {
      "application/vnd.plotly.v1+json": {
       "config": {
        "plotlyServerURL": "https://plot.ly"
       },
       "data": [
        {
         "hovertemplate": "Numero di Oscar vinti=%{x}<br>Genere=%{y}<extra></extra>",
         "legendgroup": "",
         "marker": {
          "color": "royalblue",
          "pattern": {
           "shape": ""
          }
         },
         "name": "",
         "orientation": "h",
         "showlegend": false,
         "textposition": "auto",
         "type": "bar",
         "x": {
          "bdata": "HAcsAh4CewF3ASIB4gDcANwA0wDQAM4AywDIAJsAmQB+AHMAQQA=",
          "dtype": "i2"
         },
         "xaxis": "x",
         "y": [
          "Drama",
          "Comedy",
          "Romance",
          "Documentary",
          "Animation",
          "Thriller",
          "Fantasy",
          "Family",
          "Adventure",
          "Music",
          "History",
          "Horror",
          "Action",
          "Crime",
          "TV Movie",
          "War",
          "Mystery",
          "Science Fiction",
          "Western"
         ],
         "yaxis": "y"
        }
       ],
       "layout": {
        "barmode": "relative",
        "coloraxis": {
         "showscale": false
        },
        "height": 800,
        "legend": {
         "tracegroupgap": 0
        },
        "template": {
         "data": {
          "bar": [
           {
            "error_x": {
             "color": "#f2f5fa"
            },
            "error_y": {
             "color": "#f2f5fa"
            },
            "marker": {
             "line": {
              "color": "rgb(17,17,17)",
              "width": 0.5
             },
             "pattern": {
              "fillmode": "overlay",
              "size": 10,
              "solidity": 0.2
             }
            },
            "type": "bar"
           }
          ],
          "barpolar": [
           {
            "marker": {
             "line": {
              "color": "rgb(17,17,17)",
              "width": 0.5
             },
             "pattern": {
              "fillmode": "overlay",
              "size": 10,
              "solidity": 0.2
             }
            },
            "type": "barpolar"
           }
          ],
          "carpet": [
           {
            "aaxis": {
             "endlinecolor": "#A2B1C6",
             "gridcolor": "#506784",
             "linecolor": "#506784",
             "minorgridcolor": "#506784",
             "startlinecolor": "#A2B1C6"
            },
            "baxis": {
             "endlinecolor": "#A2B1C6",
             "gridcolor": "#506784",
             "linecolor": "#506784",
             "minorgridcolor": "#506784",
             "startlinecolor": "#A2B1C6"
            },
            "type": "carpet"
           }
          ],
          "choropleth": [
           {
            "colorbar": {
             "outlinewidth": 0,
             "ticks": ""
            },
            "type": "choropleth"
           }
          ],
          "contour": [
           {
            "colorbar": {
             "outlinewidth": 0,
             "ticks": ""
            },
            "colorscale": [
             [
              0,
              "#0d0887"
             ],
             [
              0.1111111111111111,
              "#46039f"
             ],
             [
              0.2222222222222222,
              "#7201a8"
             ],
             [
              0.3333333333333333,
              "#9c179e"
             ],
             [
              0.4444444444444444,
              "#bd3786"
             ],
             [
              0.5555555555555556,
              "#d8576b"
             ],
             [
              0.6666666666666666,
              "#ed7953"
             ],
             [
              0.7777777777777778,
              "#fb9f3a"
             ],
             [
              0.8888888888888888,
              "#fdca26"
             ],
             [
              1,
              "#f0f921"
             ]
            ],
            "type": "contour"
           }
          ],
          "contourcarpet": [
           {
            "colorbar": {
             "outlinewidth": 0,
             "ticks": ""
            },
            "type": "contourcarpet"
           }
          ],
          "heatmap": [
           {
            "colorbar": {
             "outlinewidth": 0,
             "ticks": ""
            },
            "colorscale": [
             [
              0,
              "#0d0887"
             ],
             [
              0.1111111111111111,
              "#46039f"
             ],
             [
              0.2222222222222222,
              "#7201a8"
             ],
             [
              0.3333333333333333,
              "#9c179e"
             ],
             [
              0.4444444444444444,
              "#bd3786"
             ],
             [
              0.5555555555555556,
              "#d8576b"
             ],
             [
              0.6666666666666666,
              "#ed7953"
             ],
             [
              0.7777777777777778,
              "#fb9f3a"
             ],
             [
              0.8888888888888888,
              "#fdca26"
             ],
             [
              1,
              "#f0f921"
             ]
            ],
            "type": "heatmap"
           }
          ],
          "histogram": [
           {
            "marker": {
             "pattern": {
              "fillmode": "overlay",
              "size": 10,
              "solidity": 0.2
             }
            },
            "type": "histogram"
           }
          ],
          "histogram2d": [
           {
            "colorbar": {
             "outlinewidth": 0,
             "ticks": ""
            },
            "colorscale": [
             [
              0,
              "#0d0887"
             ],
             [
              0.1111111111111111,
              "#46039f"
             ],
             [
              0.2222222222222222,
              "#7201a8"
             ],
             [
              0.3333333333333333,
              "#9c179e"
             ],
             [
              0.4444444444444444,
              "#bd3786"
             ],
             [
              0.5555555555555556,
              "#d8576b"
             ],
             [
              0.6666666666666666,
              "#ed7953"
             ],
             [
              0.7777777777777778,
              "#fb9f3a"
             ],
             [
              0.8888888888888888,
              "#fdca26"
             ],
             [
              1,
              "#f0f921"
             ]
            ],
            "type": "histogram2d"
           }
          ],
          "histogram2dcontour": [
           {
            "colorbar": {
             "outlinewidth": 0,
             "ticks": ""
            },
            "colorscale": [
             [
              0,
              "#0d0887"
             ],
             [
              0.1111111111111111,
              "#46039f"
             ],
             [
              0.2222222222222222,
              "#7201a8"
             ],
             [
              0.3333333333333333,
              "#9c179e"
             ],
             [
              0.4444444444444444,
              "#bd3786"
             ],
             [
              0.5555555555555556,
              "#d8576b"
             ],
             [
              0.6666666666666666,
              "#ed7953"
             ],
             [
              0.7777777777777778,
              "#fb9f3a"
             ],
             [
              0.8888888888888888,
              "#fdca26"
             ],
             [
              1,
              "#f0f921"
             ]
            ],
            "type": "histogram2dcontour"
           }
          ],
          "mesh3d": [
           {
            "colorbar": {
             "outlinewidth": 0,
             "ticks": ""
            },
            "type": "mesh3d"
           }
          ],
          "parcoords": [
           {
            "line": {
             "colorbar": {
              "outlinewidth": 0,
              "ticks": ""
             }
            },
            "type": "parcoords"
           }
          ],
          "pie": [
           {
            "automargin": true,
            "type": "pie"
           }
          ],
          "scatter": [
           {
            "marker": {
             "line": {
              "color": "#283442"
             }
            },
            "type": "scatter"
           }
          ],
          "scatter3d": [
           {
            "line": {
             "colorbar": {
              "outlinewidth": 0,
              "ticks": ""
             }
            },
            "marker": {
             "colorbar": {
              "outlinewidth": 0,
              "ticks": ""
             }
            },
            "type": "scatter3d"
           }
          ],
          "scattercarpet": [
           {
            "marker": {
             "colorbar": {
              "outlinewidth": 0,
              "ticks": ""
             }
            },
            "type": "scattercarpet"
           }
          ],
          "scattergeo": [
           {
            "marker": {
             "colorbar": {
              "outlinewidth": 0,
              "ticks": ""
             }
            },
            "type": "scattergeo"
           }
          ],
          "scattergl": [
           {
            "marker": {
             "line": {
              "color": "#283442"
             }
            },
            "type": "scattergl"
           }
          ],
          "scattermap": [
           {
            "marker": {
             "colorbar": {
              "outlinewidth": 0,
              "ticks": ""
             }
            },
            "type": "scattermap"
           }
          ],
          "scattermapbox": [
           {
            "marker": {
             "colorbar": {
              "outlinewidth": 0,
              "ticks": ""
             }
            },
            "type": "scattermapbox"
           }
          ],
          "scatterpolar": [
           {
            "marker": {
             "colorbar": {
              "outlinewidth": 0,
              "ticks": ""
             }
            },
            "type": "scatterpolar"
           }
          ],
          "scatterpolargl": [
           {
            "marker": {
             "colorbar": {
              "outlinewidth": 0,
              "ticks": ""
             }
            },
            "type": "scatterpolargl"
           }
          ],
          "scatterternary": [
           {
            "marker": {
             "colorbar": {
              "outlinewidth": 0,
              "ticks": ""
             }
            },
            "type": "scatterternary"
           }
          ],
          "surface": [
           {
            "colorbar": {
             "outlinewidth": 0,
             "ticks": ""
            },
            "colorscale": [
             [
              0,
              "#0d0887"
             ],
             [
              0.1111111111111111,
              "#46039f"
             ],
             [
              0.2222222222222222,
              "#7201a8"
             ],
             [
              0.3333333333333333,
              "#9c179e"
             ],
             [
              0.4444444444444444,
              "#bd3786"
             ],
             [
              0.5555555555555556,
              "#d8576b"
             ],
             [
              0.6666666666666666,
              "#ed7953"
             ],
             [
              0.7777777777777778,
              "#fb9f3a"
             ],
             [
              0.8888888888888888,
              "#fdca26"
             ],
             [
              1,
              "#f0f921"
             ]
            ],
            "type": "surface"
           }
          ],
          "table": [
           {
            "cells": {
             "fill": {
              "color": "#506784"
             },
             "line": {
              "color": "rgb(17,17,17)"
             }
            },
            "header": {
             "fill": {
              "color": "#2a3f5f"
             },
             "line": {
              "color": "rgb(17,17,17)"
             }
            },
            "type": "table"
           }
          ]
         },
         "layout": {
          "annotationdefaults": {
           "arrowcolor": "#f2f5fa",
           "arrowhead": 0,
           "arrowwidth": 1
          },
          "autotypenumbers": "strict",
          "coloraxis": {
           "colorbar": {
            "outlinewidth": 0,
            "ticks": ""
           }
          },
          "colorscale": {
           "diverging": [
            [
             0,
             "#8e0152"
            ],
            [
             0.1,
             "#c51b7d"
            ],
            [
             0.2,
             "#de77ae"
            ],
            [
             0.3,
             "#f1b6da"
            ],
            [
             0.4,
             "#fde0ef"
            ],
            [
             0.5,
             "#f7f7f7"
            ],
            [
             0.6,
             "#e6f5d0"
            ],
            [
             0.7,
             "#b8e186"
            ],
            [
             0.8,
             "#7fbc41"
            ],
            [
             0.9,
             "#4d9221"
            ],
            [
             1,
             "#276419"
            ]
           ],
           "sequential": [
            [
             0,
             "#0d0887"
            ],
            [
             0.1111111111111111,
             "#46039f"
            ],
            [
             0.2222222222222222,
             "#7201a8"
            ],
            [
             0.3333333333333333,
             "#9c179e"
            ],
            [
             0.4444444444444444,
             "#bd3786"
            ],
            [
             0.5555555555555556,
             "#d8576b"
            ],
            [
             0.6666666666666666,
             "#ed7953"
            ],
            [
             0.7777777777777778,
             "#fb9f3a"
            ],
            [
             0.8888888888888888,
             "#fdca26"
            ],
            [
             1,
             "#f0f921"
            ]
           ],
           "sequentialminus": [
            [
             0,
             "#0d0887"
            ],
            [
             0.1111111111111111,
             "#46039f"
            ],
            [
             0.2222222222222222,
             "#7201a8"
            ],
            [
             0.3333333333333333,
             "#9c179e"
            ],
            [
             0.4444444444444444,
             "#bd3786"
            ],
            [
             0.5555555555555556,
             "#d8576b"
            ],
            [
             0.6666666666666666,
             "#ed7953"
            ],
            [
             0.7777777777777778,
             "#fb9f3a"
            ],
            [
             0.8888888888888888,
             "#fdca26"
            ],
            [
             1,
             "#f0f921"
            ]
           ]
          },
          "colorway": [
           "#636efa",
           "#EF553B",
           "#00cc96",
           "#ab63fa",
           "#FFA15A",
           "#19d3f3",
           "#FF6692",
           "#B6E880",
           "#FF97FF",
           "#FECB52"
          ],
          "font": {
           "color": "#f2f5fa"
          },
          "geo": {
           "bgcolor": "rgb(17,17,17)",
           "lakecolor": "rgb(17,17,17)",
           "landcolor": "rgb(17,17,17)",
           "showlakes": true,
           "showland": true,
           "subunitcolor": "#506784"
          },
          "hoverlabel": {
           "align": "left"
          },
          "hovermode": "closest",
          "mapbox": {
           "style": "dark"
          },
          "paper_bgcolor": "rgb(17,17,17)",
          "plot_bgcolor": "rgb(17,17,17)",
          "polar": {
           "angularaxis": {
            "gridcolor": "#506784",
            "linecolor": "#506784",
            "ticks": ""
           },
           "bgcolor": "rgb(17,17,17)",
           "radialaxis": {
            "gridcolor": "#506784",
            "linecolor": "#506784",
            "ticks": ""
           }
          },
          "scene": {
           "xaxis": {
            "backgroundcolor": "rgb(17,17,17)",
            "gridcolor": "#506784",
            "gridwidth": 2,
            "linecolor": "#506784",
            "showbackground": true,
            "ticks": "",
            "zerolinecolor": "#C8D4E3"
           },
           "yaxis": {
            "backgroundcolor": "rgb(17,17,17)",
            "gridcolor": "#506784",
            "gridwidth": 2,
            "linecolor": "#506784",
            "showbackground": true,
            "ticks": "",
            "zerolinecolor": "#C8D4E3"
           },
           "zaxis": {
            "backgroundcolor": "rgb(17,17,17)",
            "gridcolor": "#506784",
            "gridwidth": 2,
            "linecolor": "#506784",
            "showbackground": true,
            "ticks": "",
            "zerolinecolor": "#C8D4E3"
           }
          },
          "shapedefaults": {
           "line": {
            "color": "#f2f5fa"
           }
          },
          "sliderdefaults": {
           "bgcolor": "#C8D4E3",
           "bordercolor": "rgb(17,17,17)",
           "borderwidth": 1,
           "tickwidth": 0
          },
          "ternary": {
           "aaxis": {
            "gridcolor": "#506784",
            "linecolor": "#506784",
            "ticks": ""
           },
           "baxis": {
            "gridcolor": "#506784",
            "linecolor": "#506784",
            "ticks": ""
           },
           "bgcolor": "rgb(17,17,17)",
           "caxis": {
            "gridcolor": "#506784",
            "linecolor": "#506784",
            "ticks": ""
           }
          },
          "title": {
           "x": 0.05
          },
          "updatemenudefaults": {
           "bgcolor": "#506784",
           "borderwidth": 0
          },
          "xaxis": {
           "automargin": true,
           "gridcolor": "#283442",
           "linecolor": "#506784",
           "ticks": "",
           "title": {
            "standoff": 15
           },
           "zerolinecolor": "#283442",
           "zerolinewidth": 2
          },
          "yaxis": {
           "automargin": true,
           "gridcolor": "#283442",
           "linecolor": "#506784",
           "ticks": "",
           "title": {
            "standoff": 15
           },
           "zerolinecolor": "#283442",
           "zerolinewidth": 2
          }
         }
        },
        "title": {
         "text": "Generi con più Oscar vinti"
        },
        "width": 800,
        "xaxis": {
         "anchor": "y",
         "domain": [
          0,
          1
         ],
         "dtick": 100,
         "tickmode": "linear",
         "title": {
          "text": "Numero di Oscar vinti"
         }
        },
        "yaxis": {
         "anchor": "x",
         "domain": [
          0,
          1
         ],
         "title": {
          "text": "Genere"
         }
        }
       }
      }
     },
     "metadata": {},
     "output_type": "display_data"
    }
   ],
   "source": [
    "# 3 Generi con piu oscar vinti in totale a barre\n",
    "\n",
    "genre_oscar_query = \"\"\"\n",
    "WITH oscar_films AS (\n",
    "    SELECT DISTINCT film as movie_title\n",
    "    FROM oscar_awards\n",
    "    WHERE winner = true)\n",
    "SELECT\n",
    "    g.genre,\n",
    "    COUNT(DISTINCT CASE WHEN o.movie_title IS NOT NULL THEN m.id END) as oscar_films,\n",
    "    COUNT(DISTINCT m.id) as total_films,\n",
    "    AVG(m.rating) as avg_rating  --usato in 4 non in questa cella\n",
    "FROM movies m\n",
    "JOIN genres g ON m.id = g.id_movie\n",
    "LEFT JOIN oscar_films o ON LOWER(m.name) = LOWER(o.movie_title)   --lower dato che movies  e oscar_films sono da fonti di dati diverse\n",
    "GROUP BY g.genre\n",
    "ORDER BY oscar_films DESC\n",
    "\"\"\"\n",
    "\n",
    "genre_oscar = run_query(genre_oscar_query)\n",
    "\n",
    "fig = px.bar(\n",
    "    genre_oscar,\n",
    "    x='oscar_films',\n",
    "    y='genre',\n",
    "    orientation='h',\n",
    "    title='Generi con più Oscar vinti',\n",
    "    labels={\n",
    "        'oscar_films': 'Numero di Oscar vinti',\n",
    "        'genre': 'Genere'\n",
    "    },\n",
    "    color_discrete_sequence=['royalblue'],   #colore uniforme\n",
    "    height=800,\n",
    "    width=800,\n",
    "    template='plotly_dark'\n",
    ")\n",
    "\n",
    "fig.update_layout(\n",
    "    xaxis=dict(\n",
    "        tickmode='linear',\n",
    "        dtick=100,\n",
    "        title='Numero di Oscar vinti'\n",
    "    ),\n",
    "    yaxis={'title': 'Genere'},\n",
    "    coloraxis_showscale=False  #nasconde la legenda scala colori\n",
    ")\n",
    "\n",
    "fig.show()"
   ]
  },
  {
   "cell_type": "code",
   "execution_count": 110,
   "id": "271d9052c92ec86",
   "metadata": {},
   "outputs": [
    {
     "data": {
      "application/vnd.plotly.v1+json": {
       "config": {
        "plotlyServerURL": "https://plot.ly"
       },
       "data": [
        {
         "hovertemplate": "<b>%{hovertext}</b><br><br>Genere=Drama<br>Rating Medio=%{x}<br>Probabilità di Vincere Oscar=%{y}<br>Numero Film=%{marker.size}<extra></extra>",
         "hovertext": [
          "Drama"
         ],
         "legendgroup": "Drama",
         "marker": {
          "color": "#636efa",
          "size": {
           "bdata": "suMCAA==",
           "dtype": "i4"
          },
          "sizemin": 5,
          "sizemode": "area",
          "sizeref": 137.8724,
          "symbol": "circle"
         },
         "mode": "markers",
         "name": "Drama",
         "orientation": "v",
         "showlegend": true,
         "type": "scatter",
         "x": {
          "bdata": "dZ+ESVSbCkA=",
          "dtype": "f8"
         },
         "xaxis": "x",
         "y": {
          "bdata": "M+tUOQyvgz8=",
          "dtype": "f8"
         },
         "yaxis": "y"
        },
        {
         "hovertemplate": "<b>%{hovertext}</b><br><br>Genere=Comedy<br>Rating Medio=%{x}<br>Probabilità di Vincere Oscar=%{y}<br>Numero Film=%{marker.size}<extra></extra>",
         "hovertext": [
          "Comedy"
         ],
         "legendgroup": "Comedy",
         "marker": {
          "color": "#EF553B",
          "size": {
           "bdata": "nrQBAA==",
           "dtype": "i4"
          },
          "sizemin": 5,
          "sizemode": "area",
          "sizeref": 137.8724,
          "symbol": "circle"
         },
         "mode": "markers",
         "name": "Comedy",
         "orientation": "v",
         "showlegend": true,
         "type": "scatter",
         "x": {
          "bdata": "Hcw/Db9yCUA=",
          "dtype": "f8"
         },
         "xaxis": "x",
         "y": {
          "bdata": "NeiVtvRfdD8=",
          "dtype": "f8"
         },
         "yaxis": "y"
        },
        {
         "hovertemplate": "<b>%{hovertext}</b><br><br>Genere=Romance<br>Rating Medio=%{x}<br>Probabilità di Vincere Oscar=%{y}<br>Numero Film=%{marker.size}<extra></extra>",
         "hovertext": [
          "Romance"
         ],
         "legendgroup": "Romance",
         "marker": {
          "color": "#00cc96",
          "size": {
           "bdata": "F6kAAA==",
           "dtype": "i4"
          },
          "sizemin": 5,
          "sizemode": "area",
          "sizeref": 137.8724,
          "symbol": "circle"
         },
         "mode": "markers",
         "name": "Romance",
         "orientation": "v",
         "showlegend": true,
         "type": "scatter",
         "x": {
          "bdata": "ova8J+uQCUA=",
          "dtype": "f8"
         },
         "xaxis": "x",
         "y": {
          "bdata": "Oa3a8KakiT8=",
          "dtype": "f8"
         },
         "yaxis": "y"
        },
        {
         "hovertemplate": "<b>%{hovertext}</b><br><br>Genere=Documentary<br>Rating Medio=%{x}<br>Probabilità di Vincere Oscar=%{y}<br>Numero Film=%{marker.size}<extra></extra>",
         "hovertext": [
          "Documentary"
         ],
         "legendgroup": "Documentary",
         "marker": {
          "color": "#ab63fa",
          "size": {
           "bdata": "jfkBAA==",
           "dtype": "i4"
          },
          "sizemin": 5,
          "sizemode": "area",
          "sizeref": 137.8724,
          "symbol": "circle"
         },
         "mode": "markers",
         "name": "Documentary",
         "orientation": "v",
         "showlegend": true,
         "type": "scatter",
         "x": {
          "bdata": "dL9Z/yclDEA=",
          "dtype": "f8"
         },
         "xaxis": "x",
         "y": {
          "bdata": "GnV7elv9Zz8=",
          "dtype": "f8"
         },
         "yaxis": "y"
        },
        {
         "hovertemplate": "<b>%{hovertext}</b><br><br>Genere=Animation<br>Rating Medio=%{x}<br>Probabilità di Vincere Oscar=%{y}<br>Numero Film=%{marker.size}<extra></extra>",
         "hovertext": [
          "Animation"
         ],
         "legendgroup": "Animation",
         "marker": {
          "color": "#FFA15A",
          "size": {
           "bdata": "HsYAAA==",
           "dtype": "i4"
          },
          "sizemin": 5,
          "sizemode": "area",
          "sizeref": 137.8724,
          "symbol": "circle"
         },
         "mode": "markers",
         "name": "Animation",
         "orientation": "v",
         "showlegend": true,
         "type": "scatter",
         "x": {
          "bdata": "eqVUcq7cCkA=",
          "dtype": "f8"
         },
         "xaxis": "x",
         "y": {
          "bdata": "16XssvxIfj8=",
          "dtype": "f8"
         },
         "yaxis": "y"
        },
        {
         "hovertemplate": "<b>%{hovertext}</b><br><br>Genere=Thriller<br>Rating Medio=%{x}<br>Probabilità di Vincere Oscar=%{y}<br>Numero Film=%{marker.size}<extra></extra>",
         "hovertext": [
          "Thriller"
         ],
         "legendgroup": "Thriller",
         "marker": {
          "color": "#19d3f3",
          "size": {
           "bdata": "QZ0AAA==",
           "dtype": "i4"
          },
          "sizemin": 5,
          "sizemode": "area",
          "sizeref": 137.8724,
          "symbol": "circle"
         },
         "mode": "markers",
         "name": "Thriller",
         "orientation": "v",
         "showlegend": true,
         "type": "scatter",
         "x": {
          "bdata": "+BcDujNeCEA=",
          "dtype": "f8"
         },
         "xaxis": "x",
         "y": {
          "bdata": "hOCW0qSBfT8=",
          "dtype": "f8"
         },
         "yaxis": "y"
        },
        {
         "hovertemplate": "<b>%{hovertext}</b><br><br>Genere=Fantasy<br>Rating Medio=%{x}<br>Probabilità di Vincere Oscar=%{y}<br>Numero Film=%{marker.size}<extra></extra>",
         "hovertext": [
          "Fantasy"
         ],
         "legendgroup": "Fantasy",
         "marker": {
          "color": "#FF6692",
          "size": {
           "bdata": "akg=",
           "dtype": "i2"
          },
          "sizemin": 5,
          "sizemode": "area",
          "sizeref": 137.8724,
          "symbol": "circle"
         },
         "mode": "markers",
         "name": "Fantasy",
         "orientation": "v",
         "showlegend": true,
         "type": "scatter",
         "x": {
          "bdata": "nTxozgc6CUA=",
          "dtype": "f8"
         },
         "xaxis": "x",
         "y": {
          "bdata": "Cd1py6/3iD8=",
          "dtype": "f8"
         },
         "yaxis": "y"
        },
        {
         "hovertemplate": "<b>%{hovertext}</b><br><br>Genere=Family<br>Rating Medio=%{x}<br>Probabilità di Vincere Oscar=%{y}<br>Numero Film=%{marker.size}<extra></extra>",
         "hovertext": [
          "Family"
         ],
         "legendgroup": "Family",
         "marker": {
          "color": "#B6E880",
          "size": {
           "bdata": "nFQ=",
           "dtype": "i2"
          },
          "sizemin": 5,
          "sizemode": "area",
          "sizeref": 137.8724,
          "symbol": "circle"
         },
         "mode": "markers",
         "name": "Family",
         "orientation": "v",
         "showlegend": true,
         "type": "scatter",
         "x": {
          "bdata": "B8ivIFHYCEA=",
          "dtype": "f8"
         },
         "xaxis": "x",
         "y": {
          "bdata": "uIIVny3NhD8=",
          "dtype": "f8"
         },
         "yaxis": "y"
        },
        {
         "hovertemplate": "<b>%{hovertext}</b><br><br>Genere=Adventure<br>Rating Medio=%{x}<br>Probabilità di Vincere Oscar=%{y}<br>Numero Film=%{marker.size}<extra></extra>",
         "hovertext": [
          "Adventure"
         ],
         "legendgroup": "Adventure",
         "marker": {
          "color": "#FF97FF",
          "size": {
           "bdata": "WUs=",
           "dtype": "i2"
          },
          "sizemin": 5,
          "sizemode": "area",
          "sizeref": 137.8724,
          "symbol": "circle"
         },
         "mode": "markers",
         "name": "Adventure",
         "orientation": "v",
         "showlegend": true,
         "type": "scatter",
         "x": {
          "bdata": "pEeNIiXKCEA=",
          "dtype": "f8"
         },
         "xaxis": "x",
         "y": {
          "bdata": "Q7+9f79bhz8=",
          "dtype": "f8"
         },
         "yaxis": "y"
        },
        {
         "hovertemplate": "<b>%{hovertext}</b><br><br>Genere=Music<br>Rating Medio=%{x}<br>Probabilità di Vincere Oscar=%{y}<br>Numero Film=%{marker.size}<extra></extra>",
         "hovertext": [
          "Music"
         ],
         "legendgroup": "Music",
         "marker": {
          "color": "#FECB52",
          "size": {
           "bdata": "H3w=",
           "dtype": "i2"
          },
          "sizemin": 5,
          "sizemode": "area",
          "sizeref": 137.8724,
          "symbol": "circle"
         },
         "mode": "markers",
         "name": "Music",
         "orientation": "v",
         "showlegend": true,
         "type": "scatter",
         "x": {
          "bdata": "8ubh9Et+C0A=",
          "dtype": "f8"
         },
         "xaxis": "x",
         "y": {
          "bdata": "MxswswEzez8=",
          "dtype": "f8"
         },
         "yaxis": "y"
        },
        {
         "hovertemplate": "<b>%{hovertext}</b><br><br>Genere=History<br>Rating Medio=%{x}<br>Probabilità di Vincere Oscar=%{y}<br>Numero Film=%{marker.size}<extra></extra>",
         "hovertext": [
          "History"
         ],
         "legendgroup": "History",
         "marker": {
          "color": "#636efa",
          "size": {
           "bdata": "FzQ=",
           "dtype": "i2"
          },
          "sizemin": 5,
          "sizemode": "area",
          "sizeref": 137.8724,
          "symbol": "circle"
         },
         "mode": "markers",
         "name": "History",
         "orientation": "v",
         "showlegend": true,
         "type": "scatter",
         "x": {
          "bdata": "Haz/c5gvC0A=",
          "dtype": "f8"
         },
         "xaxis": "x",
         "y": {
          "bdata": "ydRs3d7xjz8=",
          "dtype": "f8"
         },
         "yaxis": "y"
        },
        {
         "hovertemplate": "<b>%{hovertext}</b><br><br>Genere=Horror<br>Rating Medio=%{x}<br>Probabilità di Vincere Oscar=%{y}<br>Numero Film=%{marker.size}<extra></extra>",
         "hovertext": [
          "Horror"
         ],
         "legendgroup": "Horror",
         "marker": {
          "color": "#EF553B",
          "size": {
           "bdata": "VrcAAA==",
           "dtype": "i4"
          },
          "sizemin": 5,
          "sizemode": "area",
          "sizeref": 137.8724,
          "symbol": "circle"
         },
         "mode": "markers",
         "name": "Horror",
         "orientation": "v",
         "showlegend": true,
         "type": "scatter",
         "x": {
          "bdata": "mHGFl49fB0A=",
          "dtype": "f8"
         },
         "xaxis": "x",
         "y": {
          "bdata": "+D9IY1n6cT8=",
          "dtype": "f8"
         },
         "yaxis": "y"
        },
        {
         "hovertemplate": "<b>%{hovertext}</b><br><br>Genere=Action<br>Rating Medio=%{x}<br>Probabilità di Vincere Oscar=%{y}<br>Numero Film=%{marker.size}<extra></extra>",
         "hovertext": [
          "Action"
         ],
         "legendgroup": "Action",
         "marker": {
          "color": "#00cc96",
          "size": {
           "bdata": "mIgAAA==",
           "dtype": "i4"
          },
          "sizemin": 5,
          "sizemode": "area",
          "sizeref": 137.8724,
          "symbol": "circle"
         },
         "mode": "markers",
         "name": "Action",
         "orientation": "v",
         "showlegend": true,
         "type": "scatter",
         "x": {
          "bdata": "Wb8PO1hiCEA=",
          "dtype": "f8"
         },
         "xaxis": "x",
         "y": {
          "bdata": "ocAdbE7Hdz8=",
          "dtype": "f8"
         },
         "yaxis": "y"
        },
        {
         "hovertemplate": "<b>%{hovertext}</b><br><br>Genere=Crime<br>Rating Medio=%{x}<br>Probabilità di Vincere Oscar=%{y}<br>Numero Film=%{marker.size}<extra></extra>",
         "hovertext": [
          "Crime"
         ],
         "legendgroup": "Crime",
         "marker": {
          "color": "#ab63fa",
          "size": {
           "bdata": "b3M=",
           "dtype": "i2"
          },
          "sizemin": 5,
          "sizemode": "area",
          "sizeref": 137.8724,
          "symbol": "circle"
         },
         "mode": "markers",
         "name": "Crime",
         "orientation": "v",
         "showlegend": true,
         "type": "scatter",
         "x": {
          "bdata": "HtengfbvCUA=",
          "dtype": "f8"
         },
         "xaxis": "x",
         "y": {
          "bdata": "XGdrjri4ez8=",
          "dtype": "f8"
         },
         "yaxis": "y"
        },
        {
         "hovertemplate": "<b>%{hovertext}</b><br><br>Genere=TV Movie<br>Rating Medio=%{x}<br>Probabilità di Vincere Oscar=%{y}<br>Numero Film=%{marker.size}<extra></extra>",
         "hovertext": [
          "TV Movie"
         ],
         "legendgroup": "TV Movie",
         "marker": {
          "color": "#FFA15A",
          "size": {
           "bdata": "v1I=",
           "dtype": "i2"
          },
          "sizemin": 5,
          "sizemode": "area",
          "sizeref": 137.8724,
          "symbol": "circle"
         },
         "mode": "markers",
         "name": "TV Movie",
         "orientation": "v",
         "showlegend": true,
         "type": "scatter",
         "x": {
          "bdata": "pv98JsfkCEA=",
          "dtype": "f8"
         },
         "xaxis": "x",
         "y": {
          "bdata": "rtrvx6D4fT8=",
          "dtype": "f8"
         },
         "yaxis": "y"
        },
        {
         "hovertemplate": "<b>%{hovertext}</b><br><br>Genere=War<br>Rating Medio=%{x}<br>Probabilità di Vincere Oscar=%{y}<br>Numero Film=%{marker.size}<extra></extra>",
         "hovertext": [
          "War"
         ],
         "legendgroup": "War",
         "marker": {
          "color": "#19d3f3",
          "size": {
           "bdata": "hCI=",
           "dtype": "i2"
          },
          "sizemin": 5,
          "sizemode": "area",
          "sizeref": 137.8724,
          "symbol": "circle"
         },
         "mode": "markers",
         "name": "War",
         "orientation": "v",
         "showlegend": true,
         "type": "scatter",
         "x": {
          "bdata": "uM2qtZYBC0A=",
          "dtype": "f8"
         },
         "xaxis": "x",
         "y": {
          "bdata": "N4lgXym7kT8=",
          "dtype": "f8"
         },
         "yaxis": "y"
        },
        {
         "hovertemplate": "<b>%{hovertext}</b><br><br>Genere=Mystery<br>Rating Medio=%{x}<br>Probabilità di Vincere Oscar=%{y}<br>Numero Film=%{marker.size}<extra></extra>",
         "hovertext": [
          "Mystery"
         ],
         "legendgroup": "Mystery",
         "marker": {
          "color": "#FF6692",
          "size": {
           "bdata": "DEc=",
           "dtype": "i2"
          },
          "sizemin": 5,
          "sizemode": "area",
          "sizeref": 137.8724,
          "symbol": "circle"
         },
         "mode": "markers",
         "name": "Mystery",
         "orientation": "v",
         "showlegend": true,
         "type": "scatter",
         "x": {
          "bdata": "fFK/Y05pCUA=",
          "dtype": "f8"
         },
         "xaxis": "x",
         "y": {
          "bdata": "9X77bylgfD8=",
          "dtype": "f8"
         },
         "yaxis": "y"
        },
        {
         "hovertemplate": "<b>%{hovertext}</b><br><br>Genere=Science Fiction<br>Rating Medio=%{x}<br>Probabilità di Vincere Oscar=%{y}<br>Numero Film=%{marker.size}<extra></extra>",
         "hovertext": [
          "Science Fiction"
         ],
         "legendgroup": "Science Fiction",
         "marker": {
          "color": "#B6E880",
          "size": {
           "bdata": "DUk=",
           "dtype": "i2"
          },
          "sizemin": 5,
          "sizemode": "area",
          "sizeref": 137.8724,
          "symbol": "circle"
         },
         "mode": "markers",
         "name": "Science Fiction",
         "orientation": "v",
         "showlegend": true,
         "type": "scatter",
         "x": {
          "bdata": "i/uBbpA8CEA=",
          "dtype": "f8"
         },
         "xaxis": "x",
         "y": {
          "bdata": "yImrAR4weT8=",
          "dtype": "f8"
         },
         "yaxis": "y"
        },
        {
         "hovertemplate": "<b>%{hovertext}</b><br><br>Genere=Western<br>Rating Medio=%{x}<br>Probabilità di Vincere Oscar=%{y}<br>Numero Film=%{marker.size}<extra></extra>",
         "hovertext": [
          "Western"
         ],
         "legendgroup": "Western",
         "marker": {
          "color": "#FF97FF",
          "size": {
           "bdata": "bx0=",
           "dtype": "i2"
          },
          "sizemin": 5,
          "sizemode": "area",
          "sizeref": 137.8724,
          "symbol": "circle"
         },
         "mode": "markers",
         "name": "Western",
         "orientation": "v",
         "showlegend": true,
         "type": "scatter",
         "x": {
          "bdata": "BK2vq7FICkA=",
          "dtype": "f8"
         },
         "xaxis": "x",
         "y": {
          "bdata": "DH6eKbmqgT8=",
          "dtype": "f8"
         },
         "yaxis": "y"
        }
       ],
       "layout": {
        "height": 700,
        "legend": {
         "itemsizing": "constant",
         "title": {
          "text": "Generi"
         },
         "tracegroupgap": 0
        },
        "template": {
         "data": {
          "bar": [
           {
            "error_x": {
             "color": "#f2f5fa"
            },
            "error_y": {
             "color": "#f2f5fa"
            },
            "marker": {
             "line": {
              "color": "rgb(17,17,17)",
              "width": 0.5
             },
             "pattern": {
              "fillmode": "overlay",
              "size": 10,
              "solidity": 0.2
             }
            },
            "type": "bar"
           }
          ],
          "barpolar": [
           {
            "marker": {
             "line": {
              "color": "rgb(17,17,17)",
              "width": 0.5
             },
             "pattern": {
              "fillmode": "overlay",
              "size": 10,
              "solidity": 0.2
             }
            },
            "type": "barpolar"
           }
          ],
          "carpet": [
           {
            "aaxis": {
             "endlinecolor": "#A2B1C6",
             "gridcolor": "#506784",
             "linecolor": "#506784",
             "minorgridcolor": "#506784",
             "startlinecolor": "#A2B1C6"
            },
            "baxis": {
             "endlinecolor": "#A2B1C6",
             "gridcolor": "#506784",
             "linecolor": "#506784",
             "minorgridcolor": "#506784",
             "startlinecolor": "#A2B1C6"
            },
            "type": "carpet"
           }
          ],
          "choropleth": [
           {
            "colorbar": {
             "outlinewidth": 0,
             "ticks": ""
            },
            "type": "choropleth"
           }
          ],
          "contour": [
           {
            "colorbar": {
             "outlinewidth": 0,
             "ticks": ""
            },
            "colorscale": [
             [
              0,
              "#0d0887"
             ],
             [
              0.1111111111111111,
              "#46039f"
             ],
             [
              0.2222222222222222,
              "#7201a8"
             ],
             [
              0.3333333333333333,
              "#9c179e"
             ],
             [
              0.4444444444444444,
              "#bd3786"
             ],
             [
              0.5555555555555556,
              "#d8576b"
             ],
             [
              0.6666666666666666,
              "#ed7953"
             ],
             [
              0.7777777777777778,
              "#fb9f3a"
             ],
             [
              0.8888888888888888,
              "#fdca26"
             ],
             [
              1,
              "#f0f921"
             ]
            ],
            "type": "contour"
           }
          ],
          "contourcarpet": [
           {
            "colorbar": {
             "outlinewidth": 0,
             "ticks": ""
            },
            "type": "contourcarpet"
           }
          ],
          "heatmap": [
           {
            "colorbar": {
             "outlinewidth": 0,
             "ticks": ""
            },
            "colorscale": [
             [
              0,
              "#0d0887"
             ],
             [
              0.1111111111111111,
              "#46039f"
             ],
             [
              0.2222222222222222,
              "#7201a8"
             ],
             [
              0.3333333333333333,
              "#9c179e"
             ],
             [
              0.4444444444444444,
              "#bd3786"
             ],
             [
              0.5555555555555556,
              "#d8576b"
             ],
             [
              0.6666666666666666,
              "#ed7953"
             ],
             [
              0.7777777777777778,
              "#fb9f3a"
             ],
             [
              0.8888888888888888,
              "#fdca26"
             ],
             [
              1,
              "#f0f921"
             ]
            ],
            "type": "heatmap"
           }
          ],
          "histogram": [
           {
            "marker": {
             "pattern": {
              "fillmode": "overlay",
              "size": 10,
              "solidity": 0.2
             }
            },
            "type": "histogram"
           }
          ],
          "histogram2d": [
           {
            "colorbar": {
             "outlinewidth": 0,
             "ticks": ""
            },
            "colorscale": [
             [
              0,
              "#0d0887"
             ],
             [
              0.1111111111111111,
              "#46039f"
             ],
             [
              0.2222222222222222,
              "#7201a8"
             ],
             [
              0.3333333333333333,
              "#9c179e"
             ],
             [
              0.4444444444444444,
              "#bd3786"
             ],
             [
              0.5555555555555556,
              "#d8576b"
             ],
             [
              0.6666666666666666,
              "#ed7953"
             ],
             [
              0.7777777777777778,
              "#fb9f3a"
             ],
             [
              0.8888888888888888,
              "#fdca26"
             ],
             [
              1,
              "#f0f921"
             ]
            ],
            "type": "histogram2d"
           }
          ],
          "histogram2dcontour": [
           {
            "colorbar": {
             "outlinewidth": 0,
             "ticks": ""
            },
            "colorscale": [
             [
              0,
              "#0d0887"
             ],
             [
              0.1111111111111111,
              "#46039f"
             ],
             [
              0.2222222222222222,
              "#7201a8"
             ],
             [
              0.3333333333333333,
              "#9c179e"
             ],
             [
              0.4444444444444444,
              "#bd3786"
             ],
             [
              0.5555555555555556,
              "#d8576b"
             ],
             [
              0.6666666666666666,
              "#ed7953"
             ],
             [
              0.7777777777777778,
              "#fb9f3a"
             ],
             [
              0.8888888888888888,
              "#fdca26"
             ],
             [
              1,
              "#f0f921"
             ]
            ],
            "type": "histogram2dcontour"
           }
          ],
          "mesh3d": [
           {
            "colorbar": {
             "outlinewidth": 0,
             "ticks": ""
            },
            "type": "mesh3d"
           }
          ],
          "parcoords": [
           {
            "line": {
             "colorbar": {
              "outlinewidth": 0,
              "ticks": ""
             }
            },
            "type": "parcoords"
           }
          ],
          "pie": [
           {
            "automargin": true,
            "type": "pie"
           }
          ],
          "scatter": [
           {
            "marker": {
             "line": {
              "color": "#283442"
             }
            },
            "type": "scatter"
           }
          ],
          "scatter3d": [
           {
            "line": {
             "colorbar": {
              "outlinewidth": 0,
              "ticks": ""
             }
            },
            "marker": {
             "colorbar": {
              "outlinewidth": 0,
              "ticks": ""
             }
            },
            "type": "scatter3d"
           }
          ],
          "scattercarpet": [
           {
            "marker": {
             "colorbar": {
              "outlinewidth": 0,
              "ticks": ""
             }
            },
            "type": "scattercarpet"
           }
          ],
          "scattergeo": [
           {
            "marker": {
             "colorbar": {
              "outlinewidth": 0,
              "ticks": ""
             }
            },
            "type": "scattergeo"
           }
          ],
          "scattergl": [
           {
            "marker": {
             "line": {
              "color": "#283442"
             }
            },
            "type": "scattergl"
           }
          ],
          "scattermap": [
           {
            "marker": {
             "colorbar": {
              "outlinewidth": 0,
              "ticks": ""
             }
            },
            "type": "scattermap"
           }
          ],
          "scattermapbox": [
           {
            "marker": {
             "colorbar": {
              "outlinewidth": 0,
              "ticks": ""
             }
            },
            "type": "scattermapbox"
           }
          ],
          "scatterpolar": [
           {
            "marker": {
             "colorbar": {
              "outlinewidth": 0,
              "ticks": ""
             }
            },
            "type": "scatterpolar"
           }
          ],
          "scatterpolargl": [
           {
            "marker": {
             "colorbar": {
              "outlinewidth": 0,
              "ticks": ""
             }
            },
            "type": "scatterpolargl"
           }
          ],
          "scatterternary": [
           {
            "marker": {
             "colorbar": {
              "outlinewidth": 0,
              "ticks": ""
             }
            },
            "type": "scatterternary"
           }
          ],
          "surface": [
           {
            "colorbar": {
             "outlinewidth": 0,
             "ticks": ""
            },
            "colorscale": [
             [
              0,
              "#0d0887"
             ],
             [
              0.1111111111111111,
              "#46039f"
             ],
             [
              0.2222222222222222,
              "#7201a8"
             ],
             [
              0.3333333333333333,
              "#9c179e"
             ],
             [
              0.4444444444444444,
              "#bd3786"
             ],
             [
              0.5555555555555556,
              "#d8576b"
             ],
             [
              0.6666666666666666,
              "#ed7953"
             ],
             [
              0.7777777777777778,
              "#fb9f3a"
             ],
             [
              0.8888888888888888,
              "#fdca26"
             ],
             [
              1,
              "#f0f921"
             ]
            ],
            "type": "surface"
           }
          ],
          "table": [
           {
            "cells": {
             "fill": {
              "color": "#506784"
             },
             "line": {
              "color": "rgb(17,17,17)"
             }
            },
            "header": {
             "fill": {
              "color": "#2a3f5f"
             },
             "line": {
              "color": "rgb(17,17,17)"
             }
            },
            "type": "table"
           }
          ]
         },
         "layout": {
          "annotationdefaults": {
           "arrowcolor": "#f2f5fa",
           "arrowhead": 0,
           "arrowwidth": 1
          },
          "autotypenumbers": "strict",
          "coloraxis": {
           "colorbar": {
            "outlinewidth": 0,
            "ticks": ""
           }
          },
          "colorscale": {
           "diverging": [
            [
             0,
             "#8e0152"
            ],
            [
             0.1,
             "#c51b7d"
            ],
            [
             0.2,
             "#de77ae"
            ],
            [
             0.3,
             "#f1b6da"
            ],
            [
             0.4,
             "#fde0ef"
            ],
            [
             0.5,
             "#f7f7f7"
            ],
            [
             0.6,
             "#e6f5d0"
            ],
            [
             0.7,
             "#b8e186"
            ],
            [
             0.8,
             "#7fbc41"
            ],
            [
             0.9,
             "#4d9221"
            ],
            [
             1,
             "#276419"
            ]
           ],
           "sequential": [
            [
             0,
             "#0d0887"
            ],
            [
             0.1111111111111111,
             "#46039f"
            ],
            [
             0.2222222222222222,
             "#7201a8"
            ],
            [
             0.3333333333333333,
             "#9c179e"
            ],
            [
             0.4444444444444444,
             "#bd3786"
            ],
            [
             0.5555555555555556,
             "#d8576b"
            ],
            [
             0.6666666666666666,
             "#ed7953"
            ],
            [
             0.7777777777777778,
             "#fb9f3a"
            ],
            [
             0.8888888888888888,
             "#fdca26"
            ],
            [
             1,
             "#f0f921"
            ]
           ],
           "sequentialminus": [
            [
             0,
             "#0d0887"
            ],
            [
             0.1111111111111111,
             "#46039f"
            ],
            [
             0.2222222222222222,
             "#7201a8"
            ],
            [
             0.3333333333333333,
             "#9c179e"
            ],
            [
             0.4444444444444444,
             "#bd3786"
            ],
            [
             0.5555555555555556,
             "#d8576b"
            ],
            [
             0.6666666666666666,
             "#ed7953"
            ],
            [
             0.7777777777777778,
             "#fb9f3a"
            ],
            [
             0.8888888888888888,
             "#fdca26"
            ],
            [
             1,
             "#f0f921"
            ]
           ]
          },
          "colorway": [
           "#636efa",
           "#EF553B",
           "#00cc96",
           "#ab63fa",
           "#FFA15A",
           "#19d3f3",
           "#FF6692",
           "#B6E880",
           "#FF97FF",
           "#FECB52"
          ],
          "font": {
           "color": "#f2f5fa"
          },
          "geo": {
           "bgcolor": "rgb(17,17,17)",
           "lakecolor": "rgb(17,17,17)",
           "landcolor": "rgb(17,17,17)",
           "showlakes": true,
           "showland": true,
           "subunitcolor": "#506784"
          },
          "hoverlabel": {
           "align": "left"
          },
          "hovermode": "closest",
          "mapbox": {
           "style": "dark"
          },
          "paper_bgcolor": "rgb(17,17,17)",
          "plot_bgcolor": "rgb(17,17,17)",
          "polar": {
           "angularaxis": {
            "gridcolor": "#506784",
            "linecolor": "#506784",
            "ticks": ""
           },
           "bgcolor": "rgb(17,17,17)",
           "radialaxis": {
            "gridcolor": "#506784",
            "linecolor": "#506784",
            "ticks": ""
           }
          },
          "scene": {
           "xaxis": {
            "backgroundcolor": "rgb(17,17,17)",
            "gridcolor": "#506784",
            "gridwidth": 2,
            "linecolor": "#506784",
            "showbackground": true,
            "ticks": "",
            "zerolinecolor": "#C8D4E3"
           },
           "yaxis": {
            "backgroundcolor": "rgb(17,17,17)",
            "gridcolor": "#506784",
            "gridwidth": 2,
            "linecolor": "#506784",
            "showbackground": true,
            "ticks": "",
            "zerolinecolor": "#C8D4E3"
           },
           "zaxis": {
            "backgroundcolor": "rgb(17,17,17)",
            "gridcolor": "#506784",
            "gridwidth": 2,
            "linecolor": "#506784",
            "showbackground": true,
            "ticks": "",
            "zerolinecolor": "#C8D4E3"
           }
          },
          "shapedefaults": {
           "line": {
            "color": "#f2f5fa"
           }
          },
          "sliderdefaults": {
           "bgcolor": "#C8D4E3",
           "bordercolor": "rgb(17,17,17)",
           "borderwidth": 1,
           "tickwidth": 0
          },
          "ternary": {
           "aaxis": {
            "gridcolor": "#506784",
            "linecolor": "#506784",
            "ticks": ""
           },
           "baxis": {
            "gridcolor": "#506784",
            "linecolor": "#506784",
            "ticks": ""
           },
           "bgcolor": "rgb(17,17,17)",
           "caxis": {
            "gridcolor": "#506784",
            "linecolor": "#506784",
            "ticks": ""
           }
          },
          "title": {
           "x": 0.05
          },
          "updatemenudefaults": {
           "bgcolor": "#506784",
           "borderwidth": 0
          },
          "xaxis": {
           "automargin": true,
           "gridcolor": "#283442",
           "linecolor": "#506784",
           "ticks": "",
           "title": {
            "standoff": 15
           },
           "zerolinecolor": "#283442",
           "zerolinewidth": 2
          },
          "yaxis": {
           "automargin": true,
           "gridcolor": "#283442",
           "linecolor": "#506784",
           "ticks": "",
           "title": {
            "standoff": 15
           },
           "zerolinecolor": "#283442",
           "zerolinewidth": 2
          }
         }
        },
        "title": {
         "text": "Relazione tra Rating Medio e Probabilità di Vincere Oscar",
         "x": 0.5,
         "xanchor": "center",
         "y": 0.95
        },
        "width": 900,
        "xaxis": {
         "anchor": "y",
         "domain": [
          0,
          1
         ],
         "title": {
          "text": "Rating Medio"
         }
        },
        "yaxis": {
         "anchor": "x",
         "domain": [
          0,
          1
         ],
         "title": {
          "text": "Probabilità di Vincere Oscar"
         }
        }
       }
      }
     },
     "metadata": {},
     "output_type": "display_data"
    }
   ],
   "source": [
    "## 4 relazione tra rating medio e probabilità di vincere un Oscar per genere\n",
    "\n",
    "genre_oscar['oscar_ratio'] = genre_oscar['oscar_films'] / genre_oscar['total_films'] #genre oscar da n.3, niente round perche il ratio dipende troppo da piccoli decimali\n",
    "\n",
    "fig = px.scatter(\n",
    "    genre_oscar,\n",
    "    x='avg_rating',\n",
    "    y='oscar_ratio',\n",
    "    size='total_films',\n",
    "    color='genre',\n",
    "    hover_name='genre',\n",
    "    labels={\n",
    "        'avg_rating': 'Rating Medio',\n",
    "        'oscar_ratio': 'Probabilità di Vincere Oscar',\n",
    "        'total_films': 'Numero Film',\n",
    "        'genre': 'Genere'\n",
    "    },\n",
    "    title='Relazione tra Rating Medio e Probabilità di Vincere Oscar',\n",
    "    size_max=40 \n",
    ")\n",
    "\n",
    "fig.update_traces(\n",
    "    marker=dict(\n",
    "        sizemin=5,\n",
    "        sizeref=2.*max(genre_oscar['total_films'])/(100.**2)+100\n",
    "    ),\n",
    ")\n",
    "\n",
    "fig.update_layout(\n",
    "    height=700,\n",
    "    width=900,\n",
    "    template='plotly_dark',\n",
    "    legend_title_text='Generi',\n",
    "    xaxis={'title':'Rating Medio'},\n",
    "    yaxis={'title':'Probabilità di Vincere Oscar'},\n",
    "    title=dict(\n",
    "        y=0.95,\n",
    "        x=0.5,\n",
    "        xanchor='center'\n",
    "    )\n",
    ")\n",
    "\n",
    "fig.show()"
   ]
  },
  {
   "cell_type": "code",
   "execution_count": 111,
   "id": "567a1ff85535fbd9",
   "metadata": {},
   "outputs": [
    {
     "data": {
      "text/plain": [
       "\" dai 4 grafici visti parrebbe sconnessa la relazione tra genere e periodo che ha influenzato i risultati in quanto: nonostante il genere drama sia quello che ha vinto piu oscar di tutti dagli anni '50 non è il genere \\n##con il rating migliore durante lasso temporale analizzato, il rating migliore nel tempo lha tenuto il genere documentary che pero non rientra nemmeno nelal top 3 di top generi vincitori di oscars.\\n#d'altro canto il genere che sembra aver avuto una piu correlations tra rating alto e percentuale di vincita oscar è il genere war, forse dato dai pochi film paragonandolo agli altri generi, Drama difatti nonostante il numero maggiore\\n#di film è quasi al centro dell'ultimo grafico mostrando quindi una correlazione tra rating e prob. vincita.\\nMagari è derivato dagli attori che in alcuni generi eseguono performance magistrali permettendo ad un film di vincere o ottenere rating alti ?\""
      ]
     },
     "execution_count": 111,
     "metadata": {},
     "output_type": "execute_result"
    }
   ],
   "source": [
    "\"\"\" dai 4 grafici visti parrebbe sconnessa la relazione tra genere e periodo che ha influenzato i risultati in quanto: nonostante il genere drama sia quello che ha vinto piu oscar di tutti dagli anni '50 non è il genere \n",
    "##con il rating migliore durante lasso temporale analizzato, il rating migliore nel tempo lha tenuto il genere documentary che pero non rientra nemmeno nelal top 3 di top generi vincitori di oscars.\n",
    "#d'altro canto il genere che sembra aver avuto una piu correlations tra rating alto e percentuale di vincita oscar è il genere war, forse dato dai pochi film paragonandolo agli altri generi, Drama difatti nonostante il numero maggiore\n",
    "#di film è quasi al centro dell'ultimo grafico mostrando quindi una correlazione tra rating e prob. vincita.\n",
    "Magari è derivato dagli attori che in alcuni generi eseguono performance magistrali permettendo ad un film di vincere o ottenere rating alti ?\"\"\""
   ]
  },
  {
   "cell_type": "code",
   "execution_count": 116,
   "id": "1a2252aab6b944f3",
   "metadata": {},
   "outputs": [
    {
     "name": "stderr",
     "output_type": "stream",
     "text": [
      "C:\\Users\\aronn\\AppData\\Local\\Temp\\ipykernel_18064\\2753813331.py:18: UserWarning:\n",
      "\n",
      "pandas only supports SQLAlchemy connectable (engine/connection) or database string URI or sqlite3 DBAPI2 connection. Other DBAPI2 objects are not tested. Please consider using SQLAlchemy.\n",
      "\n"
     ]
    },
    {
     "data": {
      "application/vnd.plotly.v1+json": {
       "config": {
        "plotlyServerURL": "https://plot.ly"
       },
       "data": [
        {
         "customdata": {
          "bdata": "PwBDAFUAYwBWACMATAAOAHoAUwAfAD0AOACFAFMASQAaAA==",
          "dtype": "i2",
          "shape": "17, 1"
         },
         "hovertemplate": "Genere=Drama<br>Attore=%{x}<br>Oscar Vinti=%{y}<br>Numero Film=%{customdata[0]}<extra></extra>",
         "legendgroup": "Drama",
         "marker": {
          "color": "#636efa",
          "pattern": {
           "shape": ""
          }
         },
         "name": "Drama",
         "orientation": "v",
         "showlegend": true,
         "textposition": "auto",
         "type": "bar",
         "x": [
          "Ingrid Bergman",
          "Katharine Hepburn",
          "Maggie Smith",
          "Jack Lemmon",
          "Cate Blanchett",
          "Helen Hayes",
          "Kevin Spacey",
          "Luise Rainer",
          "Bette Davis",
          "Christoph Waltz",
          "Daniel Day-Lewis",
          "Denzel Washington",
          "Frances McDormand",
          "Anthony Hopkins",
          "Jack Nicholson",
          "Jodie Foster",
          "Mahershala Ali"
         ],
         "xaxis": "x",
         "y": {
          "bdata": "AwMCAgICAgICAgICAgICAgI=",
          "dtype": "i1"
         },
         "yaxis": "y"
        },
        {
         "customdata": {
          "bdata": "Qw4yMiQ=",
          "dtype": "i1",
          "shape": "5, 1"
         },
         "hovertemplate": "Genere=Romance<br>Attore=%{x}<br>Oscar Vinti=%{y}<br>Numero Film=%{customdata[0]}<extra></extra>",
         "legendgroup": "Romance",
         "marker": {
          "color": "#EF553B",
          "pattern": {
           "shape": ""
          }
         },
         "name": "Romance",
         "orientation": "v",
         "showlegend": true,
         "textposition": "auto",
         "type": "bar",
         "x": [
          "Katharine Hepburn",
          "Luise Rainer",
          "Jessica Lange",
          "Glenda Jackson",
          "Emma Stone"
         ],
         "xaxis": "x",
         "y": {
          "bdata": "AgICAgI=",
          "dtype": "i1"
         },
         "yaxis": "y"
        },
        {
         "customdata": {
          "bdata": "JFM=",
          "dtype": "i1",
          "shape": "2, 1"
         },
         "hovertemplate": "Genere=Comedy<br>Attore=%{x}<br>Oscar Vinti=%{y}<br>Numero Film=%{customdata[0]}<extra></extra>",
         "legendgroup": "Comedy",
         "marker": {
          "color": "#00cc96",
          "pattern": {
           "shape": ""
          }
         },
         "name": "Comedy",
         "orientation": "v",
         "showlegend": true,
         "textposition": "auto",
         "type": "bar",
         "x": [
          "Emma Stone",
          "Jack Nicholson"
         ],
         "xaxis": "x",
         "y": {
          "bdata": "AgI=",
          "dtype": "i1"
         },
         "yaxis": "y"
        },
        {
         "customdata": {
          "bdata": "Pw==",
          "dtype": "i1",
          "shape": "1, 1"
         },
         "hovertemplate": "Genere=Thriller<br>Attore=%{x}<br>Oscar Vinti=%{y}<br>Numero Film=%{customdata[0]}<extra></extra>",
         "legendgroup": "Thriller",
         "marker": {
          "color": "#ab63fa",
          "pattern": {
           "shape": ""
          }
         },
         "name": "Thriller",
         "orientation": "v",
         "showlegend": true,
         "textposition": "auto",
         "type": "bar",
         "x": [
          "Ingrid Bergman"
         ],
         "xaxis": "x",
         "y": {
          "bdata": "Ag==",
          "dtype": "i1"
         },
         "yaxis": "y"
        },
        {
         "customdata": {
          "bdata": "SQ==",
          "dtype": "i1",
          "shape": "1, 1"
         },
         "hovertemplate": "Genere=Crime<br>Attore=%{x}<br>Oscar Vinti=%{y}<br>Numero Film=%{customdata[0]}<extra></extra>",
         "legendgroup": "Crime",
         "marker": {
          "color": "#FFA15A",
          "pattern": {
           "shape": ""
          }
         },
         "name": "Crime",
         "orientation": "v",
         "showlegend": true,
         "textposition": "auto",
         "type": "bar",
         "x": [
          "Jodie Foster"
         ],
         "xaxis": "x",
         "y": {
          "bdata": "Ag==",
          "dtype": "i1"
         },
         "yaxis": "y"
        },
        {
         "customdata": {
          "bdata": "Pw==",
          "dtype": "i1",
          "shape": "1, 1"
         },
         "hovertemplate": "Genere=Mystery<br>Attore=%{x}<br>Oscar Vinti=%{y}<br>Numero Film=%{customdata[0]}<extra></extra>",
         "legendgroup": "Mystery",
         "marker": {
          "color": "#19d3f3",
          "pattern": {
           "shape": ""
          }
         },
         "name": "Mystery",
         "orientation": "v",
         "showlegend": true,
         "textposition": "auto",
         "type": "bar",
         "x": [
          "Ingrid Bergman"
         ],
         "xaxis": "x",
         "y": {
          "bdata": "Ag==",
          "dtype": "i1"
         },
         "yaxis": "y"
        }
       ],
       "layout": {
        "barmode": "relative",
        "height": 600,
        "legend": {
         "orientation": "h",
         "title": {
          "text": "Genere"
         },
         "tracegroupgap": 0,
         "x": 1,
         "xanchor": "right",
         "y": 1.02,
         "yanchor": "bottom"
        },
        "template": {
         "data": {
          "bar": [
           {
            "error_x": {
             "color": "#f2f5fa"
            },
            "error_y": {
             "color": "#f2f5fa"
            },
            "marker": {
             "line": {
              "color": "rgb(17,17,17)",
              "width": 0.5
             },
             "pattern": {
              "fillmode": "overlay",
              "size": 10,
              "solidity": 0.2
             }
            },
            "type": "bar"
           }
          ],
          "barpolar": [
           {
            "marker": {
             "line": {
              "color": "rgb(17,17,17)",
              "width": 0.5
             },
             "pattern": {
              "fillmode": "overlay",
              "size": 10,
              "solidity": 0.2
             }
            },
            "type": "barpolar"
           }
          ],
          "carpet": [
           {
            "aaxis": {
             "endlinecolor": "#A2B1C6",
             "gridcolor": "#506784",
             "linecolor": "#506784",
             "minorgridcolor": "#506784",
             "startlinecolor": "#A2B1C6"
            },
            "baxis": {
             "endlinecolor": "#A2B1C6",
             "gridcolor": "#506784",
             "linecolor": "#506784",
             "minorgridcolor": "#506784",
             "startlinecolor": "#A2B1C6"
            },
            "type": "carpet"
           }
          ],
          "choropleth": [
           {
            "colorbar": {
             "outlinewidth": 0,
             "ticks": ""
            },
            "type": "choropleth"
           }
          ],
          "contour": [
           {
            "colorbar": {
             "outlinewidth": 0,
             "ticks": ""
            },
            "colorscale": [
             [
              0,
              "#0d0887"
             ],
             [
              0.1111111111111111,
              "#46039f"
             ],
             [
              0.2222222222222222,
              "#7201a8"
             ],
             [
              0.3333333333333333,
              "#9c179e"
             ],
             [
              0.4444444444444444,
              "#bd3786"
             ],
             [
              0.5555555555555556,
              "#d8576b"
             ],
             [
              0.6666666666666666,
              "#ed7953"
             ],
             [
              0.7777777777777778,
              "#fb9f3a"
             ],
             [
              0.8888888888888888,
              "#fdca26"
             ],
             [
              1,
              "#f0f921"
             ]
            ],
            "type": "contour"
           }
          ],
          "contourcarpet": [
           {
            "colorbar": {
             "outlinewidth": 0,
             "ticks": ""
            },
            "type": "contourcarpet"
           }
          ],
          "heatmap": [
           {
            "colorbar": {
             "outlinewidth": 0,
             "ticks": ""
            },
            "colorscale": [
             [
              0,
              "#0d0887"
             ],
             [
              0.1111111111111111,
              "#46039f"
             ],
             [
              0.2222222222222222,
              "#7201a8"
             ],
             [
              0.3333333333333333,
              "#9c179e"
             ],
             [
              0.4444444444444444,
              "#bd3786"
             ],
             [
              0.5555555555555556,
              "#d8576b"
             ],
             [
              0.6666666666666666,
              "#ed7953"
             ],
             [
              0.7777777777777778,
              "#fb9f3a"
             ],
             [
              0.8888888888888888,
              "#fdca26"
             ],
             [
              1,
              "#f0f921"
             ]
            ],
            "type": "heatmap"
           }
          ],
          "histogram": [
           {
            "marker": {
             "pattern": {
              "fillmode": "overlay",
              "size": 10,
              "solidity": 0.2
             }
            },
            "type": "histogram"
           }
          ],
          "histogram2d": [
           {
            "colorbar": {
             "outlinewidth": 0,
             "ticks": ""
            },
            "colorscale": [
             [
              0,
              "#0d0887"
             ],
             [
              0.1111111111111111,
              "#46039f"
             ],
             [
              0.2222222222222222,
              "#7201a8"
             ],
             [
              0.3333333333333333,
              "#9c179e"
             ],
             [
              0.4444444444444444,
              "#bd3786"
             ],
             [
              0.5555555555555556,
              "#d8576b"
             ],
             [
              0.6666666666666666,
              "#ed7953"
             ],
             [
              0.7777777777777778,
              "#fb9f3a"
             ],
             [
              0.8888888888888888,
              "#fdca26"
             ],
             [
              1,
              "#f0f921"
             ]
            ],
            "type": "histogram2d"
           }
          ],
          "histogram2dcontour": [
           {
            "colorbar": {
             "outlinewidth": 0,
             "ticks": ""
            },
            "colorscale": [
             [
              0,
              "#0d0887"
             ],
             [
              0.1111111111111111,
              "#46039f"
             ],
             [
              0.2222222222222222,
              "#7201a8"
             ],
             [
              0.3333333333333333,
              "#9c179e"
             ],
             [
              0.4444444444444444,
              "#bd3786"
             ],
             [
              0.5555555555555556,
              "#d8576b"
             ],
             [
              0.6666666666666666,
              "#ed7953"
             ],
             [
              0.7777777777777778,
              "#fb9f3a"
             ],
             [
              0.8888888888888888,
              "#fdca26"
             ],
             [
              1,
              "#f0f921"
             ]
            ],
            "type": "histogram2dcontour"
           }
          ],
          "mesh3d": [
           {
            "colorbar": {
             "outlinewidth": 0,
             "ticks": ""
            },
            "type": "mesh3d"
           }
          ],
          "parcoords": [
           {
            "line": {
             "colorbar": {
              "outlinewidth": 0,
              "ticks": ""
             }
            },
            "type": "parcoords"
           }
          ],
          "pie": [
           {
            "automargin": true,
            "type": "pie"
           }
          ],
          "scatter": [
           {
            "marker": {
             "line": {
              "color": "#283442"
             }
            },
            "type": "scatter"
           }
          ],
          "scatter3d": [
           {
            "line": {
             "colorbar": {
              "outlinewidth": 0,
              "ticks": ""
             }
            },
            "marker": {
             "colorbar": {
              "outlinewidth": 0,
              "ticks": ""
             }
            },
            "type": "scatter3d"
           }
          ],
          "scattercarpet": [
           {
            "marker": {
             "colorbar": {
              "outlinewidth": 0,
              "ticks": ""
             }
            },
            "type": "scattercarpet"
           }
          ],
          "scattergeo": [
           {
            "marker": {
             "colorbar": {
              "outlinewidth": 0,
              "ticks": ""
             }
            },
            "type": "scattergeo"
           }
          ],
          "scattergl": [
           {
            "marker": {
             "line": {
              "color": "#283442"
             }
            },
            "type": "scattergl"
           }
          ],
          "scattermap": [
           {
            "marker": {
             "colorbar": {
              "outlinewidth": 0,
              "ticks": ""
             }
            },
            "type": "scattermap"
           }
          ],
          "scattermapbox": [
           {
            "marker": {
             "colorbar": {
              "outlinewidth": 0,
              "ticks": ""
             }
            },
            "type": "scattermapbox"
           }
          ],
          "scatterpolar": [
           {
            "marker": {
             "colorbar": {
              "outlinewidth": 0,
              "ticks": ""
             }
            },
            "type": "scatterpolar"
           }
          ],
          "scatterpolargl": [
           {
            "marker": {
             "colorbar": {
              "outlinewidth": 0,
              "ticks": ""
             }
            },
            "type": "scatterpolargl"
           }
          ],
          "scatterternary": [
           {
            "marker": {
             "colorbar": {
              "outlinewidth": 0,
              "ticks": ""
             }
            },
            "type": "scatterternary"
           }
          ],
          "surface": [
           {
            "colorbar": {
             "outlinewidth": 0,
             "ticks": ""
            },
            "colorscale": [
             [
              0,
              "#0d0887"
             ],
             [
              0.1111111111111111,
              "#46039f"
             ],
             [
              0.2222222222222222,
              "#7201a8"
             ],
             [
              0.3333333333333333,
              "#9c179e"
             ],
             [
              0.4444444444444444,
              "#bd3786"
             ],
             [
              0.5555555555555556,
              "#d8576b"
             ],
             [
              0.6666666666666666,
              "#ed7953"
             ],
             [
              0.7777777777777778,
              "#fb9f3a"
             ],
             [
              0.8888888888888888,
              "#fdca26"
             ],
             [
              1,
              "#f0f921"
             ]
            ],
            "type": "surface"
           }
          ],
          "table": [
           {
            "cells": {
             "fill": {
              "color": "#506784"
             },
             "line": {
              "color": "rgb(17,17,17)"
             }
            },
            "header": {
             "fill": {
              "color": "#2a3f5f"
             },
             "line": {
              "color": "rgb(17,17,17)"
             }
            },
            "type": "table"
           }
          ]
         },
         "layout": {
          "annotationdefaults": {
           "arrowcolor": "#f2f5fa",
           "arrowhead": 0,
           "arrowwidth": 1
          },
          "autotypenumbers": "strict",
          "coloraxis": {
           "colorbar": {
            "outlinewidth": 0,
            "ticks": ""
           }
          },
          "colorscale": {
           "diverging": [
            [
             0,
             "#8e0152"
            ],
            [
             0.1,
             "#c51b7d"
            ],
            [
             0.2,
             "#de77ae"
            ],
            [
             0.3,
             "#f1b6da"
            ],
            [
             0.4,
             "#fde0ef"
            ],
            [
             0.5,
             "#f7f7f7"
            ],
            [
             0.6,
             "#e6f5d0"
            ],
            [
             0.7,
             "#b8e186"
            ],
            [
             0.8,
             "#7fbc41"
            ],
            [
             0.9,
             "#4d9221"
            ],
            [
             1,
             "#276419"
            ]
           ],
           "sequential": [
            [
             0,
             "#0d0887"
            ],
            [
             0.1111111111111111,
             "#46039f"
            ],
            [
             0.2222222222222222,
             "#7201a8"
            ],
            [
             0.3333333333333333,
             "#9c179e"
            ],
            [
             0.4444444444444444,
             "#bd3786"
            ],
            [
             0.5555555555555556,
             "#d8576b"
            ],
            [
             0.6666666666666666,
             "#ed7953"
            ],
            [
             0.7777777777777778,
             "#fb9f3a"
            ],
            [
             0.8888888888888888,
             "#fdca26"
            ],
            [
             1,
             "#f0f921"
            ]
           ],
           "sequentialminus": [
            [
             0,
             "#0d0887"
            ],
            [
             0.1111111111111111,
             "#46039f"
            ],
            [
             0.2222222222222222,
             "#7201a8"
            ],
            [
             0.3333333333333333,
             "#9c179e"
            ],
            [
             0.4444444444444444,
             "#bd3786"
            ],
            [
             0.5555555555555556,
             "#d8576b"
            ],
            [
             0.6666666666666666,
             "#ed7953"
            ],
            [
             0.7777777777777778,
             "#fb9f3a"
            ],
            [
             0.8888888888888888,
             "#fdca26"
            ],
            [
             1,
             "#f0f921"
            ]
           ]
          },
          "colorway": [
           "#636efa",
           "#EF553B",
           "#00cc96",
           "#ab63fa",
           "#FFA15A",
           "#19d3f3",
           "#FF6692",
           "#B6E880",
           "#FF97FF",
           "#FECB52"
          ],
          "font": {
           "color": "#f2f5fa"
          },
          "geo": {
           "bgcolor": "rgb(17,17,17)",
           "lakecolor": "rgb(17,17,17)",
           "landcolor": "rgb(17,17,17)",
           "showlakes": true,
           "showland": true,
           "subunitcolor": "#506784"
          },
          "hoverlabel": {
           "align": "left"
          },
          "hovermode": "closest",
          "mapbox": {
           "style": "dark"
          },
          "paper_bgcolor": "rgb(17,17,17)",
          "plot_bgcolor": "rgb(17,17,17)",
          "polar": {
           "angularaxis": {
            "gridcolor": "#506784",
            "linecolor": "#506784",
            "ticks": ""
           },
           "bgcolor": "rgb(17,17,17)",
           "radialaxis": {
            "gridcolor": "#506784",
            "linecolor": "#506784",
            "ticks": ""
           }
          },
          "scene": {
           "xaxis": {
            "backgroundcolor": "rgb(17,17,17)",
            "gridcolor": "#506784",
            "gridwidth": 2,
            "linecolor": "#506784",
            "showbackground": true,
            "ticks": "",
            "zerolinecolor": "#C8D4E3"
           },
           "yaxis": {
            "backgroundcolor": "rgb(17,17,17)",
            "gridcolor": "#506784",
            "gridwidth": 2,
            "linecolor": "#506784",
            "showbackground": true,
            "ticks": "",
            "zerolinecolor": "#C8D4E3"
           },
           "zaxis": {
            "backgroundcolor": "rgb(17,17,17)",
            "gridcolor": "#506784",
            "gridwidth": 2,
            "linecolor": "#506784",
            "showbackground": true,
            "ticks": "",
            "zerolinecolor": "#C8D4E3"
           }
          },
          "shapedefaults": {
           "line": {
            "color": "#f2f5fa"
           }
          },
          "sliderdefaults": {
           "bgcolor": "#C8D4E3",
           "bordercolor": "rgb(17,17,17)",
           "borderwidth": 1,
           "tickwidth": 0
          },
          "ternary": {
           "aaxis": {
            "gridcolor": "#506784",
            "linecolor": "#506784",
            "ticks": ""
           },
           "baxis": {
            "gridcolor": "#506784",
            "linecolor": "#506784",
            "ticks": ""
           },
           "bgcolor": "rgb(17,17,17)",
           "caxis": {
            "gridcolor": "#506784",
            "linecolor": "#506784",
            "ticks": ""
           }
          },
          "title": {
           "x": 0.05
          },
          "updatemenudefaults": {
           "bgcolor": "#506784",
           "borderwidth": 0
          },
          "xaxis": {
           "automargin": true,
           "gridcolor": "#283442",
           "linecolor": "#506784",
           "ticks": "",
           "title": {
            "standoff": 15
           },
           "zerolinecolor": "#283442",
           "zerolinewidth": 2
          },
          "yaxis": {
           "automargin": true,
           "gridcolor": "#283442",
           "linecolor": "#506784",
           "ticks": "",
           "title": {
            "standoff": 15
           },
           "zerolinecolor": "#283442",
           "zerolinewidth": 2
          }
         }
        },
        "title": {
         "text": "Relazione tra Attori e Oscar Vinti per Genere"
        },
        "width": 1000,
        "xaxis": {
         "anchor": "y",
         "domain": [
          0,
          1
         ],
         "tickangle": 45,
         "title": {
          "text": "Attore"
         }
        },
        "yaxis": {
         "anchor": "x",
         "domain": [
          0,
          1
         ],
         "dtick": 1,
         "title": {
          "text": "Oscar Vinti"
         }
        }
       }
      }
     },
     "metadata": {},
     "output_type": "display_data"
    }
   ],
   "source": [
    "\n",
    "## 5 Oscar vinti da attori per genere (top 20)\n",
    "\n",
    "#seleziona tutti gli attori che hanno avuto un ruolo primario per l'oscar, join con movie su name per arrivare al genere e dividere \n",
    "actor_genre_perf_query = \"\"\"  SELECT\n",
    "    s.actor_name AS actor,\n",
    "    g.genre,\n",
    "    s.movies_count AS film_count,\n",
    "    COUNT(DISTINCT CASE WHEN o.winner = true AND o.name = s.actor_name \n",
    "                        AND o.category IN (\n",
    "                            'ACTOR', 'ACTRESS',\n",
    "                            'ACTOR IN A LEADING ROLE', 'ACTRESS IN A LEADING ROLE',      --selezione di tipi di oscar per attori\n",
    "                            'ACTOR IN A SUPPORTING ROLE', 'ACTRESS IN A SUPPORTING ROLE')\n",
    "                   THEN o.id END) AS actor_oscars\n",
    "FROM actor_summaries s\n",
    "JOIN actors a ON s.actor_name = a.name\n",
    "JOIN movies m ON a.id_movie = m.id\n",
    "JOIN genres g ON m.id = g.id_movie    --necessaria la join con generi perche actor summaries non ha il genere preciso del film con cui ha vinto l'oscar\n",
    "LEFT JOIN oscar_awards o ON LOWER(m.name) = LOWER(o.film) where o.winner = true     --ripetuto controllo per velocizzare evitando inutili join\n",
    "GROUP BY s.actor_name, g.genre, s.movies_count\n",
    "ORDER BY actor_oscars  DESC \n",
    "LIMIT 27\n",
    "\"\"\" #limit 27 per come funzionano i group se un attore ha oscar per generi diversi lo conta come separati\n",
    "winners = run_query(actor_genre_perf_query)\n",
    "\n",
    "fig = px.bar(\n",
    "    winners,\n",
    "    x='actor',\n",
    "    y='actor_oscars',\n",
    "    color='genre',\n",
    "    title='Relazione tra Attori e Oscar Vinti per Genere',\n",
    "    hover_data=['film_count'],\n",
    "    labels={\n",
    "        'actor': 'Attore',\n",
    "        'actor_oscars': 'Oscar Vinti',\n",
    "        'genre': 'Genere',\n",
    "        'film_count': 'Numero Film'\n",
    "    },\n",
    ")\n",
    "\n",
    "fig.update_layout(\n",
    "    height=600,\n",
    "    width=1000,  \n",
    "    xaxis={'tickangle': 45}, \n",
    "    yaxis={'dtick': 1}, \n",
    "    template='plotly_dark',\n",
    "   legend=dict(\n",
    "        title='Genere',\n",
    "        orientation='h',\n",
    "        yanchor='bottom',\n",
    "        y=1.02,\n",
    "        xanchor='right',\n",
    "        x=1\n",
    "    )\n",
    ")\n",
    "\n"
   ]
  },
  {
   "cell_type": "code",
   "execution_count": 115,
   "id": "7e3bf41dd03416c4",
   "metadata": {},
   "outputs": [
    {
     "name": "stderr",
     "output_type": "stream",
     "text": [
      "C:\\Users\\aronn\\AppData\\Local\\Temp\\ipykernel_18064\\2753813331.py:18: UserWarning:\n",
      "\n",
      "pandas only supports SQLAlchemy connectable (engine/connection) or database string URI or sqlite3 DBAPI2 connection. Other DBAPI2 objects are not tested. Please consider using SQLAlchemy.\n",
      "\n",
      "C:\\Users\\aronn\\AppData\\Local\\Temp\\ipykernel_18064\\365771643.py:43: DeprecationWarning:\n",
      "\n",
      "DataFrameGroupBy.apply operated on the grouping columns. This behavior is deprecated, and in a future version of pandas the grouping columns will be excluded from the operation. Either pass `include_groups=False` to exclude the groupings or explicitly select the grouping columns after groupby to silence this warning.\n",
      "\n"
     ]
    },
    {
     "data": {
      "application/vnd.plotly.v1+json": {
       "config": {
        "plotlyServerURL": "https://plot.ly"
       },
       "data": [
        {
         "customdata": {
          "bdata": "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",
          "dtype": "f8",
          "shape": "289, 7"
         },
         "hovertemplate": "Genere=%{x}<br>Attore=%{y}<br>Numero Film nel Genere=%{customdata[1]}<br>Rating Medio nel Genere=%{marker.color}<br>overall_avg_rating=%{customdata[2]}<br>total_films=%{customdata[3]}<br>n_genres=%{customdata[4]}<br>genre_score=%{customdata[5]}<extra></extra>",
         "legendgroup": "",
         "marker": {
          "color": {
           "bdata": "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",
           "dtype": "f8"
          },
          "coloraxis": "coloraxis",
          "size": {
           "bdata": "CwURDDADBgMHAwUGBQEKAwEMDwEHDwQzAQQLAREEBhEKAwEBBQIMDwIBAwMOBAICAQMBAQMCBAUMAQEBAQIDAQIBAQwFBCcBAgEBBQEGAQQBAQMCCgECAgIBBAECAgICBAMXAQEFAgEBBgcEAQEYBx8BBQIFDAMDARECASUBAQEDEQEBAQEEDQYCKwEBAwEDEQEGBAISCgERCBoBBQMJBQcLCgEFAwEBDAEBAgMBAQgEDgsBNAUGAQYMBAoDAgoHAiECBQQBBgcBAQcDAgMJAQ0CAwQDAQICBAICBAsCEgMBAwEDBAIBBgECAhwOAz8DBwEBBhIDEAQBAQILAwEEAQMCAQQSAwUKAioBAQoDAgIFBwECAx8HGgIDAQECBQEDAg==",
           "dtype": "i1"
          },
          "sizemode": "area",
          "sizeref": 0.1575,
          "symbol": "circle"
         },
         "mode": "markers",
         "name": "",
         "orientation": "v",
         "showlegend": false,
         "type": "scatter",
         "x": [
          "Action",
          "Adventure",
          "Comedy",
          "Crime",
          "Drama",
          "Family",
          "Fantasy",
          "History",
          "Horror",
          "Music",
          "Mystery",
          "Romance",
          "Science Fiction",
          "TV Movie",
          "Thriller",
          "War",
          "Western",
          "Action",
          "Adventure",
          "Animation",
          "Comedy",
          "Crime",
          "Documentary",
          "Drama",
          "Family",
          "Fantasy",
          "History",
          "Horror",
          "Mystery",
          "Romance",
          "Science Fiction",
          "TV Movie",
          "Thriller",
          "War",
          "Western",
          "Adventure",
          "Comedy",
          "Crime",
          "Documentary",
          "Drama",
          "Family",
          "Fantasy",
          "History",
          "Horror",
          "Music",
          "Mystery",
          "Romance",
          "Science Fiction",
          "TV Movie",
          "Thriller",
          "War",
          "Western",
          "Action",
          "Adventure",
          "Comedy",
          "Crime",
          "Drama",
          "Family",
          "Fantasy",
          "History",
          "Horror",
          "Mystery",
          "Thriller",
          "War",
          "Western",
          "Action",
          "Adventure",
          "Comedy",
          "Crime",
          "Documentary",
          "Drama",
          "Fantasy",
          "History",
          "Horror",
          "Mystery",
          "Romance",
          "Science Fiction",
          "TV Movie",
          "Thriller",
          "War",
          "Western",
          "Adventure",
          "Comedy",
          "Crime",
          "Drama",
          "Family",
          "Fantasy",
          "History",
          "Horror",
          "Mystery",
          "Science Fiction",
          "Thriller",
          "War",
          "Action",
          "Adventure",
          "Comedy",
          "Crime",
          "Documentary",
          "Drama",
          "Family",
          "Fantasy",
          "History",
          "Horror",
          "Music",
          "Mystery",
          "Romance",
          "Thriller",
          "War",
          "Action",
          "Adventure",
          "Comedy",
          "Crime",
          "Drama",
          "Family",
          "History",
          "Music",
          "Mystery",
          "Romance",
          "Thriller",
          "War",
          "Adventure",
          "Comedy",
          "Crime",
          "Documentary",
          "Drama",
          "Fantasy",
          "History",
          "Music",
          "Mystery",
          "Romance",
          "Science Fiction",
          "TV Movie",
          "Western",
          "Action",
          "Adventure",
          "Comedy",
          "Crime",
          "Documentary",
          "Drama",
          "Family",
          "Fantasy",
          "History",
          "Music",
          "Mystery",
          "Romance",
          "Science Fiction",
          "Thriller",
          "War",
          "Western",
          "Action",
          "Adventure",
          "Animation",
          "Comedy",
          "Crime",
          "Drama",
          "Family",
          "Fantasy",
          "History",
          "Horror",
          "Mystery",
          "Romance",
          "Science Fiction",
          "Thriller",
          "War",
          "Action",
          "Adventure",
          "Crime",
          "Documentary",
          "Drama",
          "Family",
          "Fantasy",
          "History",
          "Romance",
          "Science Fiction",
          "Thriller",
          "Action",
          "Adventure",
          "Comedy",
          "Crime",
          "Documentary",
          "Drama",
          "Fantasy",
          "Horror",
          "Music",
          "Mystery",
          "Romance",
          "Science Fiction",
          "Thriller",
          "Action",
          "Adventure",
          "Comedy",
          "Crime",
          "Documentary",
          "Drama",
          "Family",
          "History",
          "Horror",
          "Music",
          "Mystery",
          "Romance",
          "Science Fiction",
          "TV Movie",
          "Thriller",
          "War",
          "Action",
          "Adventure",
          "Comedy",
          "Crime",
          "Drama",
          "Family",
          "Fantasy",
          "History",
          "Horror",
          "Music",
          "Mystery",
          "Romance",
          "Science Fiction",
          "Thriller",
          "War",
          "Action",
          "Comedy",
          "Crime",
          "Drama",
          "Fantasy",
          "History",
          "Horror",
          "Music",
          "Mystery",
          "Romance",
          "Science Fiction",
          "TV Movie",
          "Thriller",
          "War",
          "Action",
          "Adventure",
          "Comedy",
          "Crime",
          "Documentary",
          "Drama",
          "Fantasy",
          "History",
          "Horror",
          "Music",
          "Mystery",
          "Romance",
          "Science Fiction",
          "Thriller",
          "War",
          "Western",
          "Adventure",
          "Comedy",
          "Drama",
          "Family",
          "Fantasy",
          "History",
          "Mystery",
          "Romance",
          "Science Fiction",
          "TV Movie",
          "War",
          "Action",
          "Adventure",
          "Comedy",
          "Crime",
          "Documentary",
          "Drama",
          "Family",
          "Fantasy",
          "History",
          "Horror",
          "Romance",
          "Science Fiction",
          "Thriller",
          "War",
          "Western",
          "Action",
          "Adventure",
          "Comedy",
          "Crime",
          "Drama",
          "Fantasy",
          "History",
          "Horror",
          "Music",
          "Mystery",
          "Romance",
          "Science Fiction",
          "Thriller",
          "War"
         ],
         "xaxis": "x",
         "y": [
          "Akira Emoto",
          "Akira Emoto",
          "Akira Emoto",
          "Akira Emoto",
          "Akira Emoto",
          "Akira Emoto",
          "Akira Emoto",
          "Akira Emoto",
          "Akira Emoto",
          "Akira Emoto",
          "Akira Emoto",
          "Akira Emoto",
          "Akira Emoto",
          "Akira Emoto",
          "Akira Emoto",
          "Akira Emoto",
          "Akira Emoto",
          "Benedict Cumberbatch",
          "Benedict Cumberbatch",
          "Benedict Cumberbatch",
          "Benedict Cumberbatch",
          "Benedict Cumberbatch",
          "Benedict Cumberbatch",
          "Benedict Cumberbatch",
          "Benedict Cumberbatch",
          "Benedict Cumberbatch",
          "Benedict Cumberbatch",
          "Benedict Cumberbatch",
          "Benedict Cumberbatch",
          "Benedict Cumberbatch",
          "Benedict Cumberbatch",
          "Benedict Cumberbatch",
          "Benedict Cumberbatch",
          "Benedict Cumberbatch",
          "Benedict Cumberbatch",
          "David Bowie",
          "David Bowie",
          "David Bowie",
          "David Bowie",
          "David Bowie",
          "David Bowie",
          "David Bowie",
          "David Bowie",
          "David Bowie",
          "David Bowie",
          "David Bowie",
          "David Bowie",
          "David Bowie",
          "David Bowie",
          "David Bowie",
          "David Bowie",
          "David Bowie",
          "Franco Citti",
          "Franco Citti",
          "Franco Citti",
          "Franco Citti",
          "Franco Citti",
          "Franco Citti",
          "Franco Citti",
          "Franco Citti",
          "Franco Citti",
          "Franco Citti",
          "Franco Citti",
          "Franco Citti",
          "Franco Citti",
          "Hanna Schygulla",
          "Hanna Schygulla",
          "Hanna Schygulla",
          "Hanna Schygulla",
          "Hanna Schygulla",
          "Hanna Schygulla",
          "Hanna Schygulla",
          "Hanna Schygulla",
          "Hanna Schygulla",
          "Hanna Schygulla",
          "Hanna Schygulla",
          "Hanna Schygulla",
          "Hanna Schygulla",
          "Hanna Schygulla",
          "Hanna Schygulla",
          "Hanna Schygulla",
          "Henryk Bista",
          "Henryk Bista",
          "Henryk Bista",
          "Henryk Bista",
          "Henryk Bista",
          "Henryk Bista",
          "Henryk Bista",
          "Henryk Bista",
          "Henryk Bista",
          "Henryk Bista",
          "Henryk Bista",
          "Henryk Bista",
          "Jacques Perrin",
          "Jacques Perrin",
          "Jacques Perrin",
          "Jacques Perrin",
          "Jacques Perrin",
          "Jacques Perrin",
          "Jacques Perrin",
          "Jacques Perrin",
          "Jacques Perrin",
          "Jacques Perrin",
          "Jacques Perrin",
          "Jacques Perrin",
          "Jacques Perrin",
          "Jacques Perrin",
          "Jacques Perrin",
          "Jean-Claude Brialy",
          "Jean-Claude Brialy",
          "Jean-Claude Brialy",
          "Jean-Claude Brialy",
          "Jean-Claude Brialy",
          "Jean-Claude Brialy",
          "Jean-Claude Brialy",
          "Jean-Claude Brialy",
          "Jean-Claude Brialy",
          "Jean-Claude Brialy",
          "Jean-Claude Brialy",
          "Jean-Claude Brialy",
          "Jean-Pierre Léaud",
          "Jean-Pierre Léaud",
          "Jean-Pierre Léaud",
          "Jean-Pierre Léaud",
          "Jean-Pierre Léaud",
          "Jean-Pierre Léaud",
          "Jean-Pierre Léaud",
          "Jean-Pierre Léaud",
          "Jean-Pierre Léaud",
          "Jean-Pierre Léaud",
          "Jean-Pierre Léaud",
          "Jean-Pierre Léaud",
          "Jean-Pierre Léaud",
          "Jeanne Moreau",
          "Jeanne Moreau",
          "Jeanne Moreau",
          "Jeanne Moreau",
          "Jeanne Moreau",
          "Jeanne Moreau",
          "Jeanne Moreau",
          "Jeanne Moreau",
          "Jeanne Moreau",
          "Jeanne Moreau",
          "Jeanne Moreau",
          "Jeanne Moreau",
          "Jeanne Moreau",
          "Jeanne Moreau",
          "Jeanne Moreau",
          "Jeanne Moreau",
          "Kanji Tsuda",
          "Kanji Tsuda",
          "Kanji Tsuda",
          "Kanji Tsuda",
          "Kanji Tsuda",
          "Kanji Tsuda",
          "Kanji Tsuda",
          "Kanji Tsuda",
          "Kanji Tsuda",
          "Kanji Tsuda",
          "Kanji Tsuda",
          "Kanji Tsuda",
          "Kanji Tsuda",
          "Kanji Tsuda",
          "Kanji Tsuda",
          "Kaoru Yachigusa",
          "Kaoru Yachigusa",
          "Kaoru Yachigusa",
          "Kaoru Yachigusa",
          "Kaoru Yachigusa",
          "Kaoru Yachigusa",
          "Kaoru Yachigusa",
          "Kaoru Yachigusa",
          "Kaoru Yachigusa",
          "Kaoru Yachigusa",
          "Kaoru Yachigusa",
          "Ken Mitsuishi",
          "Ken Mitsuishi",
          "Ken Mitsuishi",
          "Ken Mitsuishi",
          "Ken Mitsuishi",
          "Ken Mitsuishi",
          "Ken Mitsuishi",
          "Ken Mitsuishi",
          "Ken Mitsuishi",
          "Ken Mitsuishi",
          "Ken Mitsuishi",
          "Ken Mitsuishi",
          "Ken Mitsuishi",
          "Koji Yakusho",
          "Koji Yakusho",
          "Koji Yakusho",
          "Koji Yakusho",
          "Koji Yakusho",
          "Koji Yakusho",
          "Koji Yakusho",
          "Koji Yakusho",
          "Koji Yakusho",
          "Koji Yakusho",
          "Koji Yakusho",
          "Koji Yakusho",
          "Koji Yakusho",
          "Koji Yakusho",
          "Koji Yakusho",
          "Koji Yakusho",
          "Leon Niemczyk",
          "Leon Niemczyk",
          "Leon Niemczyk",
          "Leon Niemczyk",
          "Leon Niemczyk",
          "Leon Niemczyk",
          "Leon Niemczyk",
          "Leon Niemczyk",
          "Leon Niemczyk",
          "Leon Niemczyk",
          "Leon Niemczyk",
          "Leon Niemczyk",
          "Leon Niemczyk",
          "Leon Niemczyk",
          "Leon Niemczyk",
          "Masahiko Tsugawa",
          "Masahiko Tsugawa",
          "Masahiko Tsugawa",
          "Masahiko Tsugawa",
          "Masahiko Tsugawa",
          "Masahiko Tsugawa",
          "Masahiko Tsugawa",
          "Masahiko Tsugawa",
          "Masahiko Tsugawa",
          "Masahiko Tsugawa",
          "Masahiko Tsugawa",
          "Masahiko Tsugawa",
          "Masahiko Tsugawa",
          "Masahiko Tsugawa",
          "Michel Piccoli",
          "Michel Piccoli",
          "Michel Piccoli",
          "Michel Piccoli",
          "Michel Piccoli",
          "Michel Piccoli",
          "Michel Piccoli",
          "Michel Piccoli",
          "Michel Piccoli",
          "Michel Piccoli",
          "Michel Piccoli",
          "Michel Piccoli",
          "Michel Piccoli",
          "Michel Piccoli",
          "Michel Piccoli",
          "Michel Piccoli",
          "Nikolay Grinko",
          "Nikolay Grinko",
          "Nikolay Grinko",
          "Nikolay Grinko",
          "Nikolay Grinko",
          "Nikolay Grinko",
          "Nikolay Grinko",
          "Nikolay Grinko",
          "Nikolay Grinko",
          "Nikolay Grinko",
          "Nikolay Grinko",
          "Tatsuya Nakadai",
          "Tatsuya Nakadai",
          "Tatsuya Nakadai",
          "Tatsuya Nakadai",
          "Tatsuya Nakadai",
          "Tatsuya Nakadai",
          "Tatsuya Nakadai",
          "Tatsuya Nakadai",
          "Tatsuya Nakadai",
          "Tatsuya Nakadai",
          "Tatsuya Nakadai",
          "Tatsuya Nakadai",
          "Tatsuya Nakadai",
          "Tatsuya Nakadai",
          "Tatsuya Nakadai",
          "Vittorio Gassman",
          "Vittorio Gassman",
          "Vittorio Gassman",
          "Vittorio Gassman",
          "Vittorio Gassman",
          "Vittorio Gassman",
          "Vittorio Gassman",
          "Vittorio Gassman",
          "Vittorio Gassman",
          "Vittorio Gassman",
          "Vittorio Gassman",
          "Vittorio Gassman",
          "Vittorio Gassman",
          "Vittorio Gassman"
         ],
         "yaxis": "y"
        }
       ],
       "layout": {
        "coloraxis": {
         "colorbar": {
          "title": {
           "text": "Rating Medio nel Genere"
          }
         },
         "colorscale": [
          [
           0,
           "rgb(150,0,90)"
          ],
          [
           0.125,
           "rgb(0,0,200)"
          ],
          [
           0.25,
           "rgb(0,25,255)"
          ],
          [
           0.375,
           "rgb(0,152,255)"
          ],
          [
           0.5,
           "rgb(44,255,150)"
          ],
          [
           0.625,
           "rgb(151,255,0)"
          ],
          [
           0.75,
           "rgb(255,234,0)"
          ],
          [
           0.875,
           "rgb(255,111,0)"
          ],
          [
           1,
           "rgb(255,0,0)"
          ]
         ]
        },
        "height": 800,
        "legend": {
         "itemsizing": "constant",
         "tracegroupgap": 0
        },
        "margin": {
         "t": 60
        },
        "template": {
         "data": {
          "bar": [
           {
            "error_x": {
             "color": "#f2f5fa"
            },
            "error_y": {
             "color": "#f2f5fa"
            },
            "marker": {
             "line": {
              "color": "rgb(17,17,17)",
              "width": 0.5
             },
             "pattern": {
              "fillmode": "overlay",
              "size": 10,
              "solidity": 0.2
             }
            },
            "type": "bar"
           }
          ],
          "barpolar": [
           {
            "marker": {
             "line": {
              "color": "rgb(17,17,17)",
              "width": 0.5
             },
             "pattern": {
              "fillmode": "overlay",
              "size": 10,
              "solidity": 0.2
             }
            },
            "type": "barpolar"
           }
          ],
          "carpet": [
           {
            "aaxis": {
             "endlinecolor": "#A2B1C6",
             "gridcolor": "#506784",
             "linecolor": "#506784",
             "minorgridcolor": "#506784",
             "startlinecolor": "#A2B1C6"
            },
            "baxis": {
             "endlinecolor": "#A2B1C6",
             "gridcolor": "#506784",
             "linecolor": "#506784",
             "minorgridcolor": "#506784",
             "startlinecolor": "#A2B1C6"
            },
            "type": "carpet"
           }
          ],
          "choropleth": [
           {
            "colorbar": {
             "outlinewidth": 0,
             "ticks": ""
            },
            "type": "choropleth"
           }
          ],
          "contour": [
           {
            "colorbar": {
             "outlinewidth": 0,
             "ticks": ""
            },
            "colorscale": [
             [
              0,
              "#0d0887"
             ],
             [
              0.1111111111111111,
              "#46039f"
             ],
             [
              0.2222222222222222,
              "#7201a8"
             ],
             [
              0.3333333333333333,
              "#9c179e"
             ],
             [
              0.4444444444444444,
              "#bd3786"
             ],
             [
              0.5555555555555556,
              "#d8576b"
             ],
             [
              0.6666666666666666,
              "#ed7953"
             ],
             [
              0.7777777777777778,
              "#fb9f3a"
             ],
             [
              0.8888888888888888,
              "#fdca26"
             ],
             [
              1,
              "#f0f921"
             ]
            ],
            "type": "contour"
           }
          ],
          "contourcarpet": [
           {
            "colorbar": {
             "outlinewidth": 0,
             "ticks": ""
            },
            "type": "contourcarpet"
           }
          ],
          "heatmap": [
           {
            "colorbar": {
             "outlinewidth": 0,
             "ticks": ""
            },
            "colorscale": [
             [
              0,
              "#0d0887"
             ],
             [
              0.1111111111111111,
              "#46039f"
             ],
             [
              0.2222222222222222,
              "#7201a8"
             ],
             [
              0.3333333333333333,
              "#9c179e"
             ],
             [
              0.4444444444444444,
              "#bd3786"
             ],
             [
              0.5555555555555556,
              "#d8576b"
             ],
             [
              0.6666666666666666,
              "#ed7953"
             ],
             [
              0.7777777777777778,
              "#fb9f3a"
             ],
             [
              0.8888888888888888,
              "#fdca26"
             ],
             [
              1,
              "#f0f921"
             ]
            ],
            "type": "heatmap"
           }
          ],
          "histogram": [
           {
            "marker": {
             "pattern": {
              "fillmode": "overlay",
              "size": 10,
              "solidity": 0.2
             }
            },
            "type": "histogram"
           }
          ],
          "histogram2d": [
           {
            "colorbar": {
             "outlinewidth": 0,
             "ticks": ""
            },
            "colorscale": [
             [
              0,
              "#0d0887"
             ],
             [
              0.1111111111111111,
              "#46039f"
             ],
             [
              0.2222222222222222,
              "#7201a8"
             ],
             [
              0.3333333333333333,
              "#9c179e"
             ],
             [
              0.4444444444444444,
              "#bd3786"
             ],
             [
              0.5555555555555556,
              "#d8576b"
             ],
             [
              0.6666666666666666,
              "#ed7953"
             ],
             [
              0.7777777777777778,
              "#fb9f3a"
             ],
             [
              0.8888888888888888,
              "#fdca26"
             ],
             [
              1,
              "#f0f921"
             ]
            ],
            "type": "histogram2d"
           }
          ],
          "histogram2dcontour": [
           {
            "colorbar": {
             "outlinewidth": 0,
             "ticks": ""
            },
            "colorscale": [
             [
              0,
              "#0d0887"
             ],
             [
              0.1111111111111111,
              "#46039f"
             ],
             [
              0.2222222222222222,
              "#7201a8"
             ],
             [
              0.3333333333333333,
              "#9c179e"
             ],
             [
              0.4444444444444444,
              "#bd3786"
             ],
             [
              0.5555555555555556,
              "#d8576b"
             ],
             [
              0.6666666666666666,
              "#ed7953"
             ],
             [
              0.7777777777777778,
              "#fb9f3a"
             ],
             [
              0.8888888888888888,
              "#fdca26"
             ],
             [
              1,
              "#f0f921"
             ]
            ],
            "type": "histogram2dcontour"
           }
          ],
          "mesh3d": [
           {
            "colorbar": {
             "outlinewidth": 0,
             "ticks": ""
            },
            "type": "mesh3d"
           }
          ],
          "parcoords": [
           {
            "line": {
             "colorbar": {
              "outlinewidth": 0,
              "ticks": ""
             }
            },
            "type": "parcoords"
           }
          ],
          "pie": [
           {
            "automargin": true,
            "type": "pie"
           }
          ],
          "scatter": [
           {
            "marker": {
             "line": {
              "color": "#283442"
             }
            },
            "type": "scatter"
           }
          ],
          "scatter3d": [
           {
            "line": {
             "colorbar": {
              "outlinewidth": 0,
              "ticks": ""
             }
            },
            "marker": {
             "colorbar": {
              "outlinewidth": 0,
              "ticks": ""
             }
            },
            "type": "scatter3d"
           }
          ],
          "scattercarpet": [
           {
            "marker": {
             "colorbar": {
              "outlinewidth": 0,
              "ticks": ""
             }
            },
            "type": "scattercarpet"
           }
          ],
          "scattergeo": [
           {
            "marker": {
             "colorbar": {
              "outlinewidth": 0,
              "ticks": ""
             }
            },
            "type": "scattergeo"
           }
          ],
          "scattergl": [
           {
            "marker": {
             "line": {
              "color": "#283442"
             }
            },
            "type": "scattergl"
           }
          ],
          "scattermap": [
           {
            "marker": {
             "colorbar": {
              "outlinewidth": 0,
              "ticks": ""
             }
            },
            "type": "scattermap"
           }
          ],
          "scattermapbox": [
           {
            "marker": {
             "colorbar": {
              "outlinewidth": 0,
              "ticks": ""
             }
            },
            "type": "scattermapbox"
           }
          ],
          "scatterpolar": [
           {
            "marker": {
             "colorbar": {
              "outlinewidth": 0,
              "ticks": ""
             }
            },
            "type": "scatterpolar"
           }
          ],
          "scatterpolargl": [
           {
            "marker": {
             "colorbar": {
              "outlinewidth": 0,
              "ticks": ""
             }
            },
            "type": "scatterpolargl"
           }
          ],
          "scatterternary": [
           {
            "marker": {
             "colorbar": {
              "outlinewidth": 0,
              "ticks": ""
             }
            },
            "type": "scatterternary"
           }
          ],
          "surface": [
           {
            "colorbar": {
             "outlinewidth": 0,
             "ticks": ""
            },
            "colorscale": [
             [
              0,
              "#0d0887"
             ],
             [
              0.1111111111111111,
              "#46039f"
             ],
             [
              0.2222222222222222,
              "#7201a8"
             ],
             [
              0.3333333333333333,
              "#9c179e"
             ],
             [
              0.4444444444444444,
              "#bd3786"
             ],
             [
              0.5555555555555556,
              "#d8576b"
             ],
             [
              0.6666666666666666,
              "#ed7953"
             ],
             [
              0.7777777777777778,
              "#fb9f3a"
             ],
             [
              0.8888888888888888,
              "#fdca26"
             ],
             [
              1,
              "#f0f921"
             ]
            ],
            "type": "surface"
           }
          ],
          "table": [
           {
            "cells": {
             "fill": {
              "color": "#506784"
             },
             "line": {
              "color": "rgb(17,17,17)"
             }
            },
            "header": {
             "fill": {
              "color": "#2a3f5f"
             },
             "line": {
              "color": "rgb(17,17,17)"
             }
            },
            "type": "table"
           }
          ]
         },
         "layout": {
          "annotationdefaults": {
           "arrowcolor": "#f2f5fa",
           "arrowhead": 0,
           "arrowwidth": 1
          },
          "autotypenumbers": "strict",
          "coloraxis": {
           "colorbar": {
            "outlinewidth": 0,
            "ticks": ""
           }
          },
          "colorscale": {
           "diverging": [
            [
             0,
             "#8e0152"
            ],
            [
             0.1,
             "#c51b7d"
            ],
            [
             0.2,
             "#de77ae"
            ],
            [
             0.3,
             "#f1b6da"
            ],
            [
             0.4,
             "#fde0ef"
            ],
            [
             0.5,
             "#f7f7f7"
            ],
            [
             0.6,
             "#e6f5d0"
            ],
            [
             0.7,
             "#b8e186"
            ],
            [
             0.8,
             "#7fbc41"
            ],
            [
             0.9,
             "#4d9221"
            ],
            [
             1,
             "#276419"
            ]
           ],
           "sequential": [
            [
             0,
             "#0d0887"
            ],
            [
             0.1111111111111111,
             "#46039f"
            ],
            [
             0.2222222222222222,
             "#7201a8"
            ],
            [
             0.3333333333333333,
             "#9c179e"
            ],
            [
             0.4444444444444444,
             "#bd3786"
            ],
            [
             0.5555555555555556,
             "#d8576b"
            ],
            [
             0.6666666666666666,
             "#ed7953"
            ],
            [
             0.7777777777777778,
             "#fb9f3a"
            ],
            [
             0.8888888888888888,
             "#fdca26"
            ],
            [
             1,
             "#f0f921"
            ]
           ],
           "sequentialminus": [
            [
             0,
             "#0d0887"
            ],
            [
             0.1111111111111111,
             "#46039f"
            ],
            [
             0.2222222222222222,
             "#7201a8"
            ],
            [
             0.3333333333333333,
             "#9c179e"
            ],
            [
             0.4444444444444444,
             "#bd3786"
            ],
            [
             0.5555555555555556,
             "#d8576b"
            ],
            [
             0.6666666666666666,
             "#ed7953"
            ],
            [
             0.7777777777777778,
             "#fb9f3a"
            ],
            [
             0.8888888888888888,
             "#fdca26"
            ],
            [
             1,
             "#f0f921"
            ]
           ]
          },
          "colorway": [
           "#636efa",
           "#EF553B",
           "#00cc96",
           "#ab63fa",
           "#FFA15A",
           "#19d3f3",
           "#FF6692",
           "#B6E880",
           "#FF97FF",
           "#FECB52"
          ],
          "font": {
           "color": "#f2f5fa"
          },
          "geo": {
           "bgcolor": "rgb(17,17,17)",
           "lakecolor": "rgb(17,17,17)",
           "landcolor": "rgb(17,17,17)",
           "showlakes": true,
           "showland": true,
           "subunitcolor": "#506784"
          },
          "hoverlabel": {
           "align": "left"
          },
          "hovermode": "closest",
          "mapbox": {
           "style": "dark"
          },
          "paper_bgcolor": "rgb(17,17,17)",
          "plot_bgcolor": "rgb(17,17,17)",
          "polar": {
           "angularaxis": {
            "gridcolor": "#506784",
            "linecolor": "#506784",
            "ticks": ""
           },
           "bgcolor": "rgb(17,17,17)",
           "radialaxis": {
            "gridcolor": "#506784",
            "linecolor": "#506784",
            "ticks": ""
           }
          },
          "scene": {
           "xaxis": {
            "backgroundcolor": "rgb(17,17,17)",
            "gridcolor": "#506784",
            "gridwidth": 2,
            "linecolor": "#506784",
            "showbackground": true,
            "ticks": "",
            "zerolinecolor": "#C8D4E3"
           },
           "yaxis": {
            "backgroundcolor": "rgb(17,17,17)",
            "gridcolor": "#506784",
            "gridwidth": 2,
            "linecolor": "#506784",
            "showbackground": true,
            "ticks": "",
            "zerolinecolor": "#C8D4E3"
           },
           "zaxis": {
            "backgroundcolor": "rgb(17,17,17)",
            "gridcolor": "#506784",
            "gridwidth": 2,
            "linecolor": "#506784",
            "showbackground": true,
            "ticks": "",
            "zerolinecolor": "#C8D4E3"
           }
          },
          "shapedefaults": {
           "line": {
            "color": "#f2f5fa"
           }
          },
          "sliderdefaults": {
           "bgcolor": "#C8D4E3",
           "bordercolor": "rgb(17,17,17)",
           "borderwidth": 1,
           "tickwidth": 0
          },
          "ternary": {
           "aaxis": {
            "gridcolor": "#506784",
            "linecolor": "#506784",
            "ticks": ""
           },
           "baxis": {
            "gridcolor": "#506784",
            "linecolor": "#506784",
            "ticks": ""
           },
           "bgcolor": "rgb(17,17,17)",
           "caxis": {
            "gridcolor": "#506784",
            "linecolor": "#506784",
            "ticks": ""
           }
          },
          "title": {
           "x": 0.05
          },
          "updatemenudefaults": {
           "bgcolor": "#506784",
           "borderwidth": 0
          },
          "xaxis": {
           "automargin": true,
           "gridcolor": "#283442",
           "linecolor": "#506784",
           "ticks": "",
           "title": {
            "standoff": 15
           },
           "zerolinecolor": "#283442",
           "zerolinewidth": 2
          },
          "yaxis": {
           "automargin": true,
           "gridcolor": "#283442",
           "linecolor": "#506784",
           "ticks": "",
           "title": {
            "standoff": 15
           },
           "zerolinecolor": "#283442",
           "zerolinewidth": 2
          }
         }
        },
        "title": {
         "text": "Top 20 Attori (Priorità a Qualità e Quantità Totale)",
         "x": 0.5,
         "xanchor": "center",
         "y": 0.95,
         "yanchor": "top"
        },
        "width": 1100,
        "xaxis": {
         "anchor": "y",
         "categoryorder": "total descending",
         "domain": [
          0,
          1
         ],
         "tickangle": 45,
         "title": {
          "text": "Genere"
         }
        },
        "yaxis": {
         "anchor": "x",
         "categoryorder": "total ascending",
         "domain": [
          0,
          1
         ],
         "title": {
          "text": "Attore"
         }
        }
       }
      }
     },
     "metadata": {},
     "output_type": "display_data"
    }
   ],
   "source": [
    "#6 Correlazione tra migliori attori e rating medio dei film\n",
    "\n",
    "raw_query = \"\"\"\n",
    "SELECT \n",
    "    a.name AS actor,\n",
    "    a.role AS role,\n",
    "    m.id AS movie_id,\n",
    "    m.name AS movie_name,\n",
    "    m.rating,\n",
    "    m.minute,\n",
    "    actor_summaries.average_rating AS overall_avg_rating,\n",
    "    actor_summaries.movies_count AS total_films,\n",
    "    actor_summaries.genres AS full_genres,\n",
    "    g.genre\n",
    "FROM actors a\n",
    "JOIN actor_summaries \n",
    "    ON actor_summaries.actor_name = a.name \n",
    "    AND actor_summaries.movies_count >= 15        --rimozioni attori che hanno lavorato poco\n",
    "    AND actor_summaries.average_rating >= 3.5    --filtro per lavorare con meno dati filtrando per una base di rating medio\n",
    "    AND actor_summaries.movies_count < 200       --rimozione attori che hanno fatto tanti film \"finti\"\n",
    "JOIN movies m ON a.id_movie = m.id\n",
    "JOIN genres g ON m.id = g.id_movie\n",
    "WHERE m.rating IS NOT NULL AND m.minute >= 60   --filtro per film \"veri\"\n",
    "\"\"\"\n",
    "raw_data = run_query(raw_query)\n",
    "\n",
    "mask = ~raw_data['role'].str.lower().str.contains('voice|uncredited|cameo|archive', na=False)\n",
    "filtered_data = raw_data[mask]\n",
    "\n",
    "actor_stats = filtered_data[['actor', 'total_films', 'overall_avg_rating', 'full_genres']].drop_duplicates(subset='actor')\n",
    "actor_stats['n_genres'] = actor_stats['full_genres'].apply(\n",
    "    lambda x: len(x) if isinstance(x, (list, set, tuple)) else (\n",
    "        len(str(x).strip('{}').split(',')) if pd.notnull(x) else 0\n",
    "    )\n",
    ")\n",
    "actor_stats = actor_stats[actor_stats['n_genres'] >= 4]  #filtro per attori che hanno recitato in meno di 4 generi, contando quanti generi dalla stringa divisa a , presente in actor_summaries\n",
    "\n",
    "agg_data = filtered_data.groupby(['actor', 'genre']).agg( #conteggio iflm per e rating medio per genere per popolare hover del grafico e ordinare per trovare i top actors\n",
    "    genre_film_count=('movie_id', 'nunique'),\n",
    "    genre_avg_rating=('rating', 'mean')\n",
    ").reset_index()\n",
    "\n",
    "genre_scores = agg_data.groupby('actor').apply(\n",
    "    lambda df: np.average(df['genre_avg_rating'], weights=df['genre_film_count'])\n",
    ").reset_index(name='genre_score')\n",
    "\n",
    "actor_stats = actor_stats.merge(genre_scores, on='actor')\n",
    "    \n",
    "actor_stats['weighted_score'] = (           #forumla e esi decisi da chatgpt dopo innumerevoli prove per torvare un buon modo/realistico per trovare i top attori coi dati che abbiamo\n",
    "    actor_stats['overall_avg_rating'] * 0.5 +\n",
    "    np.log1p(actor_stats['total_films']) * 0.25 +\n",
    "    actor_stats['n_genres'] * 0.15 +\n",
    "    actor_stats['genre_score'] * 0.1\n",
    ")\n",
    "\n",
    "top_actors = actor_stats.nlargest(20, 'weighted_score')['actor']\n",
    "\n",
    "agg_data = agg_data[agg_data['actor'].isin(top_actors)]\n",
    "agg_data = agg_data.merge(actor_stats, on='actor')\n",
    "\n",
    "agg_data['genre_avg_rating'] = agg_data['genre_avg_rating'].round(2)\n",
    "agg_data['overall_avg_rating'] = agg_data['overall_avg_rating'].round(2)\n",
    "\n",
    "import plotly.express as px\n",
    "\n",
    "fig = px.scatter(\n",
    "    agg_data,\n",
    "    x='genre',\n",
    "    y='actor',\n",
    "    size='genre_film_count',\n",
    "    color='genre_avg_rating',\n",
    "    color_continuous_scale='Rainbow',\n",
    "    hover_data={\n",
    "        'genre_avg_rating': True,\n",
    "        'genre_film_count': True,\n",
    "        'overall_avg_rating': True,\n",
    "        'total_films': True,\n",
    "        'n_genres': True,\n",
    "        'genre_score': True,\n",
    "        'weighted_score': False\n",
    "    },\n",
    "    labels={\n",
    "        'genre': 'Genere',\n",
    "        'actor': 'Attore',\n",
    "        'genre_film_count': 'Numero Film nel Genere',\n",
    "        'genre_avg_rating': 'Rating Medio nel Genere'\n",
    "    }\n",
    ")\n",
    "\n",
    "fig.update_layout(\n",
    "    height=800,\n",
    "    width=1100,\n",
    "    template='plotly_dark',\n",
    "    xaxis={'categoryorder': 'total descending', 'tickangle': 45},\n",
    "    yaxis={'categoryorder': 'total ascending'},\n",
    "    title=dict(\n",
    "        text='Top 20 Attori (Priorità a Qualità e Quantità Totale)',\n",
    "        y=0.95,\n",
    "        x=0.5,\n",
    "        xanchor='center',\n",
    "        yanchor='top'\n",
    "    )\n",
    ")\n",
    "\n",
    "fig.show()\n"
   ]
  },
  {
   "cell_type": "code",
   "execution_count": 114,
   "id": "2fc0f45ddd0cc35",
   "metadata": {},
   "outputs": [
    {
     "data": {
      "text/plain": [
       "'Come si vede in questo ultimo grafico non compaiono gli attori gli attori vincitori di oscar scollegando ancora di piu rating dagli oscar, si potrebbe dedurre in quanto il rating \"affibiato\" agli attori \\nnon è \"il loro\" ma dei film dove hanno recitato e per il calcolo ci sono altre cose da tenere conto oltre alla loro recitazione. Si puo vedere pero che, perlomeno secondo i criteri scelti per ottenerli da questi dati,\\n i \"migliori\" attori solo collegati a rating maggiori per i generi piu \"tipici\" di film come frama e action, dove difatti hanno tutti piu recitazioni. '"
      ]
     },
     "execution_count": 114,
     "metadata": {},
     "output_type": "execute_result"
    }
   ],
   "source": [
    "\"\"\"Come si vede in questo ultimo grafico non compaiono gli attori gli attori vincitori di oscar scollegando ancora di piu rating dagli oscar, si potrebbe dedurre in quanto il rating \"affibiato\" agli attori \n",
    "non è \"il loro\" ma dei film dove hanno recitato e per il calcolo ci sono altre cose da tenere conto oltre alla loro recitazione. Si puo vedere pero che, perlomeno secondo i criteri scelti per ottenerli da questi dati,\n",
    " i \"migliori\" attori solo collegati a rating maggiori per i generi piu \"tipici\" di film come frama e action, dove difatti hanno tutti piu recitazioni. \"\"\""
   ]
  }
 ],
 "metadata": {
  "kernelspec": {
   "display_name": "Python 3 (ipykernel)",
   "language": "python",
   "name": "python3"
  },
  "language_info": {
   "codemirror_mode": {
    "name": "ipython",
    "version": 3
   },
   "file_extension": ".py",
   "mimetype": "text/x-python",
   "name": "python",
   "nbconvert_exporter": "python",
   "pygments_lexer": "ipython3",
   "version": "3.7.8"
  }
 },
 "nbformat": 4,
 "nbformat_minor": 5
}
